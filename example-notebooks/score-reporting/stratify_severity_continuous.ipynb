{
 "cells": [
  {
   "cell_type": "markdown",
   "metadata": {},
   "source": [
    "# Stratify Continuous Score by Severity"
   ]
  },
  {
   "cell_type": "code",
   "execution_count": 12,
   "metadata": {},
   "outputs": [],
   "source": [
    "from pyspark.sql.functions import *\n",
    "\n",
    "import pandas as pd\n",
    "\n",
    "import matplotlib.pyplot as plt\n",
    "%matplotlib inline"
   ]
  },
  {
   "cell_type": "markdown",
   "metadata": {},
   "source": [
    "### Loading the data"
   ]
  },
  {
   "cell_type": "code",
   "execution_count": 2,
   "metadata": {},
   "outputs": [],
   "source": [
    "ROOT_PATH=\"gs://green-1-accelerators-1-username-dpr-stg-bucket/\"\n",
    "FILE_PATH=\"scoring/Document/Customer\"\n",
    "CUSTOMER_PATH=\"customer/DocumentDataModel/CleansedDocumentDataModel.parquet\"\n",
    "SCORE_ID_OF_INTEREST=\"HighRiskCustomerContinuous\""
   ]
  },
  {
   "cell_type": "markdown",
   "metadata": {},
   "source": [
    "Load the output score and customer data."
   ]
  },
  {
   "cell_type": "code",
   "execution_count": 3,
   "metadata": {},
   "outputs": [],
   "source": [
    "df = spark.read.parquet(ROOT_PATH+FILE_PATH)"
   ]
  },
  {
   "cell_type": "code",
   "execution_count": 4,
   "metadata": {},
   "outputs": [],
   "source": [
    "customers = spark.read.parquet(ROOT_PATH+CUSTOMER_PATH)"
   ]
  },
  {
   "cell_type": "markdown",
   "metadata": {},
   "source": [
    "Find the score of interest to select a stratification."
   ]
  },
  {
   "cell_type": "code",
   "execution_count": 5,
   "metadata": {},
   "outputs": [],
   "source": [
    "score_customers = df.select(\"id\",col(\"basicScoreOutputMap\")\\\n",
    "                 .getItem(SCORE_ID_OF_INTEREST).alias(\"scoreOutput\"))\\\n",
    "                .select(\"id\",\"scoreOutput.*\")"
   ]
  },
  {
   "cell_type": "markdown",
   "metadata": {},
   "source": [
    "Replace null severities with zero."
   ]
  },
  {
   "cell_type": "code",
   "execution_count": 6,
   "metadata": {},
   "outputs": [],
   "source": [
    "score_customers_severities = score_customers\\\n",
    "        .select(\"id\", \"severity\", \"description\")\\\n",
    "        .withColumn(\"severity\", when(col(\"severity\").isNull(),lit(0))\\\n",
    "                    .otherwise(col(\"severity\")))"
   ]
  },
  {
   "cell_type": "markdown",
   "metadata": {},
   "source": [
    "### Group the data into bins"
   ]
  },
  {
   "cell_type": "markdown",
   "metadata": {},
   "source": [
    "Group the data into bins and plot histogram."
   ]
  },
  {
   "cell_type": "code",
   "execution_count": 7,
   "metadata": {},
   "outputs": [],
   "source": [
    "score_customers_severities_pd = score_customers_severities.toPandas()"
   ]
  },
  {
   "cell_type": "code",
   "execution_count": 8,
   "metadata": {},
   "outputs": [
    {
     "data": {
      "text/html": [
       "<div>\n",
       "<style scoped>\n",
       "    .dataframe tbody tr th:only-of-type {\n",
       "        vertical-align: middle;\n",
       "    }\n",
       "\n",
       "    .dataframe tbody tr th {\n",
       "        vertical-align: top;\n",
       "    }\n",
       "\n",
       "    .dataframe thead th {\n",
       "        text-align: right;\n",
       "    }\n",
       "</style>\n",
       "<table border=\"1\" class=\"dataframe\">\n",
       "  <thead>\n",
       "    <tr style=\"text-align: right;\">\n",
       "      <th></th>\n",
       "      <th>id</th>\n",
       "      <th>severity</th>\n",
       "      <th>description</th>\n",
       "    </tr>\n",
       "  </thead>\n",
       "  <tbody>\n",
       "    <tr>\n",
       "      <th>0</th>\n",
       "      <td>1937937421</td>\n",
       "      <td>0</td>\n",
       "      <td>None</td>\n",
       "    </tr>\n",
       "    <tr>\n",
       "      <th>1</th>\n",
       "      <td>5085464662</td>\n",
       "      <td>0</td>\n",
       "      <td>None</td>\n",
       "    </tr>\n",
       "    <tr>\n",
       "      <th>2</th>\n",
       "      <td>6029246402</td>\n",
       "      <td>0</td>\n",
       "      <td>None</td>\n",
       "    </tr>\n",
       "    <tr>\n",
       "      <th>3</th>\n",
       "      <td>10092942152</td>\n",
       "      <td>25</td>\n",
       "      <td>High risk customer Harry Krichauff (10092942152).</td>\n",
       "    </tr>\n",
       "    <tr>\n",
       "      <th>4</th>\n",
       "      <td>10910136667</td>\n",
       "      <td>100</td>\n",
       "      <td>High risk customer Matthew Tremper (10910136667).</td>\n",
       "    </tr>\n",
       "    <tr>\n",
       "      <th>5</th>\n",
       "      <td>14790341630</td>\n",
       "      <td>0</td>\n",
       "      <td>None</td>\n",
       "    </tr>\n",
       "    <tr>\n",
       "      <th>6</th>\n",
       "      <td>24986141054</td>\n",
       "      <td>0</td>\n",
       "      <td>None</td>\n",
       "    </tr>\n",
       "    <tr>\n",
       "      <th>7</th>\n",
       "      <td>28471596220</td>\n",
       "      <td>0</td>\n",
       "      <td>None</td>\n",
       "    </tr>\n",
       "    <tr>\n",
       "      <th>8</th>\n",
       "      <td>34113997963</td>\n",
       "      <td>0</td>\n",
       "      <td>None</td>\n",
       "    </tr>\n",
       "    <tr>\n",
       "      <th>9</th>\n",
       "      <td>35067368037</td>\n",
       "      <td>0</td>\n",
       "      <td>None</td>\n",
       "    </tr>\n",
       "  </tbody>\n",
       "</table>\n",
       "</div>"
      ],
      "text/plain": [
       "            id  severity                                        description\n",
       "0   1937937421         0                                               None\n",
       "1   5085464662         0                                               None\n",
       "2   6029246402         0                                               None\n",
       "3  10092942152        25  High risk customer Harry Krichauff (10092942152).\n",
       "4  10910136667       100  High risk customer Matthew Tremper (10910136667).\n",
       "5  14790341630         0                                               None\n",
       "6  24986141054         0                                               None\n",
       "7  28471596220         0                                               None\n",
       "8  34113997963         0                                               None\n",
       "9  35067368037         0                                               None"
      ]
     },
     "execution_count": 8,
     "metadata": {},
     "output_type": "execute_result"
    }
   ],
   "source": [
    "score_customers_severities_pd.head(10)"
   ]
  },
  {
   "cell_type": "code",
   "execution_count": 9,
   "metadata": {},
   "outputs": [
    {
     "data": {
      "image/png": "[encoded data removed]",
      "text/plain": [
       "<Figure size 432x288 with 1 Axes>"
      ]
     },
     "metadata": {
      "needs_background": "light"
     },
     "output_type": "display_data"
    }
   ],
   "source": [
    "n, bins, patches = plt.hist(score_customers_severities_pd.severity,bins=5)\n",
    "plt.title(\"Severity Distribution\")\n",
    "plt.xlabel(\"Severity\")\n",
    "plt.ylabel(\"Count\")\n",
    "plt.show()"
   ]
  },
  {
   "cell_type": "code",
   "execution_count": 10,
   "metadata": {},
   "outputs": [
    {
     "data": {
      "text/plain": [
       "array([  0.,  20.,  40.,  60.,  80., 100.])"
      ]
     },
     "execution_count": 10,
     "metadata": {},
     "output_type": "execute_result"
    }
   ],
   "source": [
    "bins"
   ]
  },
  {
   "cell_type": "code",
   "execution_count": 11,
   "metadata": {},
   "outputs": [
    {
     "data": {
      "text/plain": [
       "array([1517.,   84.,   85.,  101.,  213.])"
      ]
     },
     "execution_count": 11,
     "metadata": {},
     "output_type": "execute_result"
    }
   ],
   "source": [
    "n"
   ]
  },
  {
   "cell_type": "markdown",
   "metadata": {},
   "source": [
    "### Sample data"
   ]
  },
  {
   "cell_type": "markdown",
   "metadata": {},
   "source": [
    "Choose fractions of each severity to sample. To do this create a dictionary where the keys are the lower bound of the bins of the histogram and the values are the fractional value of the number of samples you want for each key. <br>\n",
    "We take a small percentage of customers in the lowest bin because we have the most customers in this group and these are the customers with a low severity and therefore unlikely to be of much interest to the client."
   ]
  },
  {
   "cell_type": "code",
   "execution_count": 13,
   "metadata": {},
   "outputs": [],
   "source": [
    "severity_counts_pd = pd.DataFrame({\"severity\":bins[0:len(bins)-1], \"total_count\":n})"
   ]
  },
  {
   "cell_type": "code",
   "execution_count": 14,
   "metadata": {},
   "outputs": [],
   "source": [
    "def create_fractions_for_sample(severity_counts_df, sample_sizes):\n",
    "    \"\"\"\n",
    "    function to create custom dictionary of fractions for severity samples.\n",
    "    severity_counts_df: pandas dataframe containing severities and total counts\n",
    "    sample_sizes: ordered list of the required sample size for each severity. \n",
    "    (The sampling is probabilistic and therefore the required sample sizes are \n",
    "    an approximation of the number of samples you will receive. It is therefore \n",
    "    advised to use 2 as the minimum sample size to ensure that a sample is obtained.)\n",
    "    \"\"\"\n",
    "    severity_counts_df['sample_count'] = sample_sizes\n",
    "    fractions_dict = {}\n",
    "    for index, row in severity_counts_df.iterrows():\n",
    "        fractions_dict[int(row[0])] = row[2]/row[1]\n",
    "        \n",
    "    return fractions_dict"
   ]
  },
  {
   "cell_type": "code",
   "execution_count": 15,
   "metadata": {},
   "outputs": [],
   "source": [
    "fractions = create_fractions_for_sample(severity_counts_pd, [2,2,3,3,4])"
   ]
  },
  {
   "cell_type": "code",
   "execution_count": 16,
   "metadata": {},
   "outputs": [],
   "source": [
    "score_customers_severities_bins = score_customers_severities.\\\n",
    "    withColumn(\"severityBins\", when(col(\"severity\")<20,0).otherwise(\n",
    "    when(col(\"severity\")<40,20).otherwise(\n",
    "    when(col(\"severity\")<60,40).otherwise(\n",
    "    when(col(\"severity\")<80,60).otherwise(80    \n",
    "    )))))"
   ]
  },
  {
   "cell_type": "code",
   "execution_count": 17,
   "metadata": {},
   "outputs": [],
   "source": [
    "sampled_df = score_customers_severities_bins.stat\\\n",
    "             .sampleBy(\"severityBins\", fractions, seed=123)"
   ]
  },
  {
   "cell_type": "code",
   "execution_count": 18,
   "metadata": {},
   "outputs": [],
   "source": [
    "score_customers_severities_count=score_customers_severities.groupBy(\"severity\").count()\\\n",
    "    .select(col(\"severity\"), col(\"count\").alias(\"total_count\"))"
   ]
  },
  {
   "cell_type": "code",
   "execution_count": 20,
   "metadata": {},
   "outputs": [],
   "source": [
    "sampled_df_count=sampled_df.groupBy(\"severityBins\").count()\\\n",
    "    .select(col(\"severityBins\").alias(\"severity\"), col(\"count\").alias(\"sample_count\"))"
   ]
  },
  {
   "cell_type": "code",
   "execution_count": 21,
   "metadata": {},
   "outputs": [
    {
     "name": "stdout",
     "output_type": "stream",
     "text": [
      "+--------+-----------+------------+\n",
      "|severity|total_count|sample_count|\n",
      "+--------+-----------+------------+\n",
      "|       0|       1517|           1|\n",
      "|      20|          4|           1|\n",
      "|      40|          2|           3|\n",
      "|      60|          3|           2|\n",
      "|      80|          3|           6|\n",
      "+--------+-----------+------------+\n",
      "\n"
     ]
    }
   ],
   "source": [
    "score_customers_severities_count.join(sampled_df_count,\"severity\").orderBy(\"severity\").show()"
   ]
  },
  {
   "cell_type": "markdown",
   "metadata": {},
   "source": [
    "### Join sampled data with customers"
   ]
  },
  {
   "cell_type": "markdown",
   "metadata": {},
   "source": [
    "Read in the customer data and join to the sampled data. Select the key features to show to client."
   ]
  },
  {
   "cell_type": "code",
   "execution_count": 22,
   "metadata": {},
   "outputs": [],
   "source": [
    "sampled_df_customers = sampled_df\\\n",
    "            .join(customers, sampled_df.id == customers.customerIdNumberString)"
   ]
  },
  {
   "cell_type": "code",
   "execution_count": 23,
   "metadata": {},
   "outputs": [],
   "source": [
    "sampled_df_output = sampled_df_customers\\\n",
    "    .select(\"customerIdNumber\", \"forename\", \"familyName\", \"severity\", \"description\")"
   ]
  },
  {
   "cell_type": "code",
   "execution_count": 24,
   "metadata": {},
   "outputs": [
    {
     "data": {
      "text/html": [
       "<div>\n",
       "<style scoped>\n",
       "    .dataframe tbody tr th:only-of-type {\n",
       "        vertical-align: middle;\n",
       "    }\n",
       "\n",
       "    .dataframe tbody tr th {\n",
       "        vertical-align: top;\n",
       "    }\n",
       "\n",
       "    .dataframe thead th {\n",
       "        text-align: right;\n",
       "    }\n",
       "</style>\n",
       "<table border=\"1\" class=\"dataframe\">\n",
       "  <thead>\n",
       "    <tr style=\"text-align: right;\">\n",
       "      <th></th>\n",
       "      <th>customerIdNumber</th>\n",
       "      <th>forename</th>\n",
       "      <th>familyName</th>\n",
       "      <th>severity</th>\n",
       "      <th>description</th>\n",
       "    </tr>\n",
       "  </thead>\n",
       "  <tbody>\n",
       "    <tr>\n",
       "      <th>0</th>\n",
       "      <td>44062026113</td>\n",
       "      <td>Lukas</td>\n",
       "      <td>Schultz</td>\n",
       "      <td>71</td>\n",
       "      <td>High risk customer Lukas Schultz (44062026113).</td>\n",
       "    </tr>\n",
       "    <tr>\n",
       "      <th>1</th>\n",
       "      <td>69831468694</td>\n",
       "      <td>Steven</td>\n",
       "      <td>Olesen</td>\n",
       "      <td>70</td>\n",
       "      <td>High risk customer Steven Oleary (69831468694).</td>\n",
       "    </tr>\n",
       "    <tr>\n",
       "      <th>2</th>\n",
       "      <td>77640044198</td>\n",
       "      <td>Malcolm</td>\n",
       "      <td>Alston</td>\n",
       "      <td>43</td>\n",
       "      <td>High risk customer Malcolm Alston (77640044198).</td>\n",
       "    </tr>\n",
       "    <tr>\n",
       "      <th>3</th>\n",
       "      <td>59136631098</td>\n",
       "      <td>Desire</td>\n",
       "      <td>Deslauriers</td>\n",
       "      <td>54</td>\n",
       "      <td>High risk customer Desire Deslaurie (591366310...</td>\n",
       "    </tr>\n",
       "    <tr>\n",
       "      <th>4</th>\n",
       "      <td>99798232913</td>\n",
       "      <td>M</td>\n",
       "      <td>Williams</td>\n",
       "      <td>100</td>\n",
       "      <td>High risk customer Mamie Williams (99798232913).</td>\n",
       "    </tr>\n",
       "    <tr>\n",
       "      <th>5</th>\n",
       "      <td>58891927697</td>\n",
       "      <td>None</td>\n",
       "      <td>None</td>\n",
       "      <td>0</td>\n",
       "      <td>None</td>\n",
       "    </tr>\n",
       "    <tr>\n",
       "      <th>6</th>\n",
       "      <td>78420972928</td>\n",
       "      <td>Stefan</td>\n",
       "      <td>Kohl</td>\n",
       "      <td>50</td>\n",
       "      <td>High risk customer Stefan Kohl (78420972928).</td>\n",
       "    </tr>\n",
       "    <tr>\n",
       "      <th>7</th>\n",
       "      <td>75440916009</td>\n",
       "      <td>Charles</td>\n",
       "      <td>Flores</td>\n",
       "      <td>100</td>\n",
       "      <td>High risk customer Charles Flores (75440916009).</td>\n",
       "    </tr>\n",
       "    <tr>\n",
       "      <th>8</th>\n",
       "      <td>27352445533</td>\n",
       "      <td>Armentar</td>\n",
       "      <td>Soria</td>\n",
       "      <td>85</td>\n",
       "      <td>High risk customer Armentar Soria (27352445533).</td>\n",
       "    </tr>\n",
       "    <tr>\n",
       "      <th>9</th>\n",
       "      <td>2174571809</td>\n",
       "      <td>Dylan</td>\n",
       "      <td>Foster</td>\n",
       "      <td>100</td>\n",
       "      <td>High risk customer Dylan Foster (2174571809).</td>\n",
       "    </tr>\n",
       "    <tr>\n",
       "      <th>10</th>\n",
       "      <td>7115098764</td>\n",
       "      <td>Z</td>\n",
       "      <td>Miron</td>\n",
       "      <td>36</td>\n",
       "      <td>High risk customer Zdenek Miron (7115098764).</td>\n",
       "    </tr>\n",
       "    <tr>\n",
       "      <th>11</th>\n",
       "      <td>70664278496</td>\n",
       "      <td>Archer</td>\n",
       "      <td>Currie</td>\n",
       "      <td>96</td>\n",
       "      <td>High risk customer Archer Currie (70664278496).</td>\n",
       "    </tr>\n",
       "    <tr>\n",
       "      <th>12</th>\n",
       "      <td>67073521411</td>\n",
       "      <td>Alan</td>\n",
       "      <td>Weisman</td>\n",
       "      <td>100</td>\n",
       "      <td>High risk customer Alan Weisman (67073521411).</td>\n",
       "    </tr>\n",
       "  </tbody>\n",
       "</table>\n",
       "</div>"
      ],
      "text/plain": [
       "    customerIdNumber  forename   familyName  severity  \\\n",
       "0        44062026113     Lukas      Schultz        71   \n",
       "1        69831468694    Steven       Olesen        70   \n",
       "2        77640044198   Malcolm       Alston        43   \n",
       "3        59136631098    Desire  Deslauriers        54   \n",
       "4        99798232913         M     Williams       100   \n",
       "5        58891927697      None         None         0   \n",
       "6        78420972928    Stefan         Kohl        50   \n",
       "7        75440916009   Charles       Flores       100   \n",
       "8        27352445533  Armentar        Soria        85   \n",
       "9         2174571809     Dylan       Foster       100   \n",
       "10        7115098764         Z        Miron        36   \n",
       "11       70664278496    Archer       Currie        96   \n",
       "12       67073521411      Alan      Weisman       100   \n",
       "\n",
       "                                          description  \n",
       "0     High risk customer Lukas Schultz (44062026113).  \n",
       "1     High risk customer Steven Oleary (69831468694).  \n",
       "2    High risk customer Malcolm Alston (77640044198).  \n",
       "3   High risk customer Desire Deslaurie (591366310...  \n",
       "4    High risk customer Mamie Williams (99798232913).  \n",
       "5                                                None  \n",
       "6       High risk customer Stefan Kohl (78420972928).  \n",
       "7    High risk customer Charles Flores (75440916009).  \n",
       "8    High risk customer Armentar Soria (27352445533).  \n",
       "9       High risk customer Dylan Foster (2174571809).  \n",
       "10      High risk customer Zdenek Miron (7115098764).  \n",
       "11    High risk customer Archer Currie (70664278496).  \n",
       "12     High risk customer Alan Weisman (67073521411).  "
      ]
     },
     "execution_count": 24,
     "metadata": {},
     "output_type": "execute_result"
    }
   ],
   "source": [
    "sampled_df_output.limit(20).toPandas().head(20)"
   ]
  },
  {
   "cell_type": "markdown",
   "metadata": {},
   "source": [
    "Save output"
   ]
  },
  {
   "cell_type": "code",
   "execution_count": 25,
   "metadata": {},
   "outputs": [],
   "source": [
    "sampled_df_output.repartition(1).write.csv(path=ROOT_PATH+SCORE_ID_OF_INTEREST+\"_samples.csv\", mode=\"overwrite\", header=\"true\")"
   ]
  },
  {
   "cell_type": "code",
   "execution_count": null,
   "metadata": {},
   "outputs": [],
   "source": [
    "#if running locally\n",
    "#sampled_df_output_pd = sampled_df_output.toPandas()\n",
    "#sampled_pd.to_csv(ROOT_PATH+\"sample_file.csv\", header=True, index=False)\n",
    "#sampled_pd.to_excel(ROOT_PATH+\"sample_file.xlsx\", header=True, index=False)"
   ]
  }
 ],
 "metadata": {
  "kernelspec": {
   "display_name": "PySpark",
   "language": "python",
   "name": "pyspark"
  },
  "language_info": {
   "codemirror_mode": {
    "name": "ipython",
    "version": 3
   },
   "file_extension": ".py",
   "mimetype": "text/x-python",
   "name": "python",
   "nbconvert_exporter": "python",
   "pygments_lexer": "ipython3",
   "version": "3.7.1"
  }
 },
 "nbformat": 4,
 "nbformat_minor": 2
}