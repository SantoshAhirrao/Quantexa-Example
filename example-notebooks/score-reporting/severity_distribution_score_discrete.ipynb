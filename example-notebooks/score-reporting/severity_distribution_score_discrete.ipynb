{
 "cells": [
  {
   "cell_type": "markdown",
   "metadata": {},
   "source": [
    "# Severity Distribution of a Score: HighRiskCustomerDiscrete"
   ]
  },
  {
   "cell_type": "code",
   "execution_count": 1,
   "metadata": {},
   "outputs": [],
   "source": [
    "from pyspark.sql.functions import *\n",
    "spark.conf.set(\"spark.sql.execution.arrow.enabled\", \"true\")\n",
    "\n",
    "import matplotlib.pyplot as plt\n",
    "%matplotlib inline"
   ]
  },
  {
   "cell_type": "markdown",
   "metadata": {},
   "source": [
    "### Loading the data"
   ]
  },
  {
   "cell_type": "code",
   "execution_count": 2,
   "metadata": {},
   "outputs": [],
   "source": [
    "SCORE_OUTPUT_ROOT=\"gs://green-1-accelerators-1-username-dpr-stg-bucket/scoring/\"\n",
    "FILE_PATH=\"Document/AdditionalOutput/HighRiskCustomerDiscrete\"\n",
    "STATISTICS_PATH = \"Document/Statistics/Customer_CustomerScoreOutput_Merged_ScoreStatistics\"\n",
    "SCORE_ID_OF_INTEREST=\"HighRiskCustomerDiscrete\""
   ]
  },
  {
   "cell_type": "markdown",
   "metadata": {},
   "source": [
    "Read in the score from the AdditionalOutput folder and the score statistics from the Customer_CustomerScoreOutput_Merged_ScoreStatistics data."
   ]
  },
  {
   "cell_type": "code",
   "execution_count": 3,
   "metadata": {},
   "outputs": [],
   "source": [
    "df = spark.read.parquet(SCORE_OUTPUT_ROOT+FILE_PATH)"
   ]
  },
  {
   "cell_type": "code",
   "execution_count": 4,
   "metadata": {},
   "outputs": [],
   "source": [
    "statistics = spark.read.parquet(SCORE_OUTPUT_ROOT+STATISTICS_PATH)"
   ]
  },
  {
   "cell_type": "markdown",
   "metadata": {},
   "source": [
    "Expand the customOutput column."
   ]
  },
  {
   "cell_type": "code",
   "execution_count": 5,
   "metadata": {},
   "outputs": [],
   "source": [
    "score_output = df.select(\"subject\",\"customOutput.*\")"
   ]
  },
  {
   "cell_type": "code",
   "execution_count": 6,
   "metadata": {},
   "outputs": [
    {
     "name": "stdout",
     "output_type": "stream",
     "text": [
      "+-----------+-------------+--------+----+--------------------------------------------------+\n",
      "|subject    |keys         |severity|band|description                                       |\n",
      "+-----------+-------------+--------+----+--------------------------------------------------+\n",
      "|10092942152|[10092942152]|20      |null|High risk customer Harry Krichauff (10092942152). |\n",
      "|10910136667|[10910136667]|80      |null|High risk customer Matthew Tremper (10910136667). |\n",
      "|45613094600|[45613094600]|80      |null|High risk customer Jimmy Bennett (45613094600).   |\n",
      "|47583858045|[47583858045]|20      |null|High risk customer Enrique Voss (47583858045).    |\n",
      "|56413973236|[56413973236]|20      |null|High risk customer Campbell Rochele (56413973236).|\n",
      "+-----------+-------------+--------+----+--------------------------------------------------+\n",
      "only showing top 5 rows\n",
      "\n"
     ]
    }
   ],
   "source": [
    "score_output.show(5,False)"
   ]
  },
  {
   "cell_type": "markdown",
   "metadata": {},
   "source": [
    "Get total number of customers."
   ]
  },
  {
   "cell_type": "code",
   "execution_count": 7,
   "metadata": {},
   "outputs": [],
   "source": [
    "num_cust=statistics.filter(col(\"scoreId\")==SCORE_ID_OF_INTEREST).select(\"totalInputs\").head()[0]"
   ]
  },
  {
   "cell_type": "markdown",
   "metadata": {},
   "source": [
    "### Analysing severity distribution"
   ]
  },
  {
   "cell_type": "markdown",
   "metadata": {},
   "source": [
    "Look at the number of times each severity occurs including zero severity and plot histogram."
   ]
  },
  {
   "cell_type": "code",
   "execution_count": 19,
   "metadata": {},
   "outputs": [],
   "source": [
    "categories = score_output.groupBy(\"severity\").count()\n",
    "severity_rates = categories.withColumn(\"trigger_rate (%)\", 100*col(\"count\")/num_cust)"
   ]
  },
  {
   "cell_type": "code",
   "execution_count": 20,
   "metadata": {},
   "outputs": [],
   "source": [
    "count_triggers = statistics.filter(col(\"scoreId\")==SCORE_ID_OF_INTEREST).select(\"countTriggers\").head()[0]\n",
    "no_triggers = num_cust-count_triggers\n",
    "no_triggers_rate = 100*float(no_triggers)/num_cust"
   ]
  },
  {
   "cell_type": "code",
   "execution_count": 21,
   "metadata": {},
   "outputs": [
    {
     "name": "stdout",
     "output_type": "stream",
     "text": [
      "+--------+-----+----------------+\n",
      "|severity|count|trigger_rate (%)|\n",
      "+--------+-----+----------------+\n",
      "|       0| 1519|           75.95|\n",
      "|      20|  106|             5.3|\n",
      "|      40|  136|             6.8|\n",
      "|      60|  118|             5.9|\n",
      "|      80|  121|            6.05|\n",
      "+--------+-----+----------------+\n",
      "\n"
     ]
    }
   ],
   "source": [
    "no_triggers_row = spark.createDataFrame([[0,no_triggers,no_triggers_rate]])\n",
    "severity_rates_appended = severity_rates.union(no_triggers_row)\n",
    "severity_rates_appended.orderBy(\"severity\").show()"
   ]
  },
  {
   "cell_type": "code",
   "execution_count": 41,
   "metadata": {},
   "outputs": [],
   "source": [
    "severity_rates_pd = severity_rates.toPandas();"
   ]
  },
  {
   "cell_type": "code",
   "execution_count": 58,
   "metadata": {},
   "outputs": [
    {
     "data": {
      "image/png": "[encoded data removed]",
      "text/plain": [
       "<Figure size 432x288 with 1 Axes>"
      ]
     },
     "metadata": {
      "needs_background": "light"
     },
     "output_type": "display_data"
    }
   ],
   "source": [
    "plt.bar(severity_rates_pd[\"severity\"],severity_rates_pd[\"count\"],width=10)\n",
    "plt.title(\"Severity Distribution\")\n",
    "plt.xlabel(\"Severity\")\n",
    "plt.ylabel(\"Count\")\n",
    "plt.show()"
   ]
  },
  {
   "cell_type": "markdown",
   "metadata": {},
   "source": [
    "We can see that about 25% of customers trigger this score. The severities are quite evenly spread over the severity bands with 40 being the most common severity."
   ]
  },
  {
   "cell_type": "code",
   "execution_count": null,
   "metadata": {},
   "outputs": [],
   "source": []
  }
 ],
 "metadata": {
  "kernelspec": {
   "display_name": "PySpark",
   "language": "python",
   "name": "pyspark"
  },
  "language_info": {
   "codemirror_mode": {
    "name": "ipython",
    "version": 3
   },
   "file_extension": ".py",
   "mimetype": "text/x-python",
   "name": "python",
   "nbconvert_exporter": "python",
   "pygments_lexer": "ipython3",
   "version": "3.7.1"
  }
 },
 "nbformat": 4,
 "nbformat_minor": 2
}