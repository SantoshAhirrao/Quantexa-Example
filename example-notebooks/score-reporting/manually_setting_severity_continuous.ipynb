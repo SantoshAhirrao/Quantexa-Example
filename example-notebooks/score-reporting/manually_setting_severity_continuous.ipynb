{
 "cells": [
  {
   "cell_type": "markdown",
   "metadata": {},
   "source": [
    "# Manually setting severity of a continuous score"
   ]
  },
  {
   "cell_type": "code",
   "execution_count": 1,
   "metadata": {},
   "outputs": [],
   "source": [
    "import pyspark.sql.functions as f\n",
    "from pyspark.sql.types import IntegerType, LongType\n",
    "spark.conf.set(\"spark.sql.execution.arrow.enabled\", \"true\")\n",
    "\n",
    "import numpy as np\n",
    "import pandas as pd\n",
    "\n",
    "import matplotlib.pyplot as plt\n",
    "%matplotlib inline"
   ]
  },
  {
   "cell_type": "markdown",
   "metadata": {},
   "source": [
    "### Loading data"
   ]
  },
  {
   "cell_type": "markdown",
   "metadata": {},
   "source": [
    "Read in the data being used to create the score"
   ]
  },
  {
   "cell_type": "code",
   "execution_count": 2,
   "metadata": {},
   "outputs": [],
   "source": [
    "ROOT_PATH=\"gs://green-1-accelerators-1-username-dpr-stg-bucket/\"\n",
    "FILE_PATH=\"customer/DocumentDataModel/CleansedDocumentDataModel.parquet\""
   ]
  },
  {
   "cell_type": "code",
   "execution_count": 3,
   "metadata": {},
   "outputs": [],
   "source": [
    "customers = spark.read.parquet(ROOT_PATH+FILE_PATH)"
   ]
  },
  {
   "cell_type": "markdown",
   "metadata": {},
   "source": [
    "Select the relevant columns, in this case customerIdNumber and customerRiskRating. "
   ]
  },
  {
   "cell_type": "code",
   "execution_count": 4,
   "metadata": {},
   "outputs": [],
   "source": [
    "cust_risk = customers.select(\"customerIdNumber\", \"customerRiskRating\")"
   ]
  },
  {
   "cell_type": "code",
   "execution_count": 5,
   "metadata": {},
   "outputs": [
    {
     "name": "stdout",
     "output_type": "stream",
     "text": [
      "root\n",
      " |-- customerIdNumber: long (nullable = true)\n",
      " |-- customerRiskRating: integer (nullable = true)\n",
      "\n"
     ]
    }
   ],
   "source": [
    "cust_risk.printSchema()"
   ]
  },
  {
   "cell_type": "markdown",
   "metadata": {},
   "source": [
    "Convert to pandas dataframe"
   ]
  },
  {
   "cell_type": "code",
   "execution_count": 6,
   "metadata": {},
   "outputs": [],
   "source": [
    "cust_risk_pd = cust_risk.toPandas()"
   ]
  },
  {
   "cell_type": "code",
   "execution_count": 7,
   "metadata": {},
   "outputs": [
    {
     "data": {
      "text/html": [
       "<div>\n",
       "<style scoped>\n",
       "    .dataframe tbody tr th:only-of-type {\n",
       "        vertical-align: middle;\n",
       "    }\n",
       "\n",
       "    .dataframe tbody tr th {\n",
       "        vertical-align: top;\n",
       "    }\n",
       "\n",
       "    .dataframe thead th {\n",
       "        text-align: right;\n",
       "    }\n",
       "</style>\n",
       "<table border=\"1\" class=\"dataframe\">\n",
       "  <thead>\n",
       "    <tr style=\"text-align: right;\">\n",
       "      <th></th>\n",
       "      <th>customerIdNumber</th>\n",
       "      <th>customerRiskRating</th>\n",
       "    </tr>\n",
       "  </thead>\n",
       "  <tbody>\n",
       "    <tr>\n",
       "      <th>0</th>\n",
       "      <td>1937937421</td>\n",
       "      <td>NaN</td>\n",
       "    </tr>\n",
       "    <tr>\n",
       "      <th>1</th>\n",
       "      <td>5085464662</td>\n",
       "      <td>1781.0</td>\n",
       "    </tr>\n",
       "    <tr>\n",
       "      <th>2</th>\n",
       "      <td>6029246402</td>\n",
       "      <td>5285.0</td>\n",
       "    </tr>\n",
       "    <tr>\n",
       "      <th>3</th>\n",
       "      <td>10092942152</td>\n",
       "      <td>6225.0</td>\n",
       "    </tr>\n",
       "    <tr>\n",
       "      <th>4</th>\n",
       "      <td>10910136667</td>\n",
       "      <td>9876.0</td>\n",
       "    </tr>\n",
       "    <tr>\n",
       "      <th>5</th>\n",
       "      <td>14790341630</td>\n",
       "      <td>NaN</td>\n",
       "    </tr>\n",
       "    <tr>\n",
       "      <th>6</th>\n",
       "      <td>24986141054</td>\n",
       "      <td>NaN</td>\n",
       "    </tr>\n",
       "    <tr>\n",
       "      <th>7</th>\n",
       "      <td>28471596220</td>\n",
       "      <td>2968.0</td>\n",
       "    </tr>\n",
       "    <tr>\n",
       "      <th>8</th>\n",
       "      <td>34113997963</td>\n",
       "      <td>NaN</td>\n",
       "    </tr>\n",
       "    <tr>\n",
       "      <th>9</th>\n",
       "      <td>35067368037</td>\n",
       "      <td>2413.0</td>\n",
       "    </tr>\n",
       "  </tbody>\n",
       "</table>\n",
       "</div>"
      ],
      "text/plain": [
       "   customerIdNumber  customerRiskRating\n",
       "0        1937937421                 NaN\n",
       "1        5085464662              1781.0\n",
       "2        6029246402              5285.0\n",
       "3       10092942152              6225.0\n",
       "4       10910136667              9876.0\n",
       "5       14790341630                 NaN\n",
       "6       24986141054                 NaN\n",
       "7       28471596220              2968.0\n",
       "8       34113997963                 NaN\n",
       "9       35067368037              2413.0"
      ]
     },
     "execution_count": 7,
     "metadata": {},
     "output_type": "execute_result"
    }
   ],
   "source": [
    "cust_risk_pd.head(10)"
   ]
  },
  {
   "cell_type": "markdown",
   "metadata": {},
   "source": [
    "### Analyse distribution of data"
   ]
  },
  {
   "cell_type": "markdown",
   "metadata": {},
   "source": [
    "#### Inspect the distribution of the customer risk rating"
   ]
  },
  {
   "cell_type": "code",
   "execution_count": 8,
   "metadata": {},
   "outputs": [
    {
     "data": {
      "text/plain": [
       "count    1170.000000\n",
       "mean     5074.023077\n",
       "std      2905.695932\n",
       "min        10.000000\n",
       "25%      2611.750000\n",
       "50%      5056.000000\n",
       "75%      7652.500000\n",
       "max      9992.000000\n",
       "Name: customerRiskRating, dtype: float64"
      ]
     },
     "execution_count": 8,
     "metadata": {},
     "output_type": "execute_result"
    }
   ],
   "source": [
    "cust_risk_pd['customerRiskRating'].describe()"
   ]
  },
  {
   "cell_type": "code",
   "execution_count": 9,
   "metadata": {},
   "outputs": [],
   "source": [
    "number_of_null_values = cust_risk_pd['customerRiskRating'].isna().sum()"
   ]
  },
  {
   "cell_type": "markdown",
   "metadata": {
    "variables": {
     "number_of_null_values": "830"
    }
   },
   "source": [
    "We check for NaN (null) values as we don't want to include these in the analysis and subsequently remove from the dataframe.\n",
    "\n",
    "There are {{number_of_null_values}} null values which we will remove"
   ]
  },
  {
   "cell_type": "code",
   "execution_count": 10,
   "metadata": {},
   "outputs": [],
   "source": [
    "cust_risk_pd = cust_risk_pd.dropna()"
   ]
  },
  {
   "cell_type": "code",
   "execution_count": 11,
   "metadata": {},
   "outputs": [
    {
     "data": {
      "image/png": "[encoded data removed]",
      "text/plain": [
       "<Figure size 432x288 with 1 Axes>"
      ]
     },
     "metadata": {
      "needs_background": "light"
     },
     "output_type": "display_data"
    }
   ],
   "source": [
    "n, binvals, patches = plt.hist(cust_risk_pd[\"customerRiskRating\"],bins=10)\n",
    "plt.title(\"CustomerRiskRating Distribution\")\n",
    "plt.xlabel(\"CustomerRiskRating\")\n",
    "plt.ylabel(\"Count\")\n",
    "plt.show()"
   ]
  },
  {
   "cell_type": "markdown",
   "metadata": {},
   "source": [
    "It can also be helpful to look at quantiles of the data."
   ]
  },
  {
   "cell_type": "code",
   "execution_count": 12,
   "metadata": {},
   "outputs": [
    {
     "data": {
      "text/plain": [
       "0.0      10.0\n",
       "0.1     967.6\n",
       "0.2    2007.4\n",
       "0.3    3045.4\n",
       "0.4    4051.6\n",
       "0.5    5056.0\n",
       "0.6    6202.8\n",
       "0.7    7227.0\n",
       "0.8    8047.4\n",
       "0.9    9018.6\n",
       "Name: customerRiskRating, dtype: float64"
      ]
     },
     "execution_count": 12,
     "metadata": {},
     "output_type": "execute_result"
    }
   ],
   "source": [
    "num_quantiles=10\n",
    "quantiles=cust_risk_pd['customerRiskRating'].quantile([0,0.1,0.2,0.3,0.4,0.5,0.6,0.7,0.8,0.9])\n",
    "quantiles"
   ]
  },
  {
   "cell_type": "code",
   "execution_count": 13,
   "metadata": {},
   "outputs": [],
   "source": [
    "max_risk=cust_risk.select(f.max('customerRiskRating')).head()[0]"
   ]
  },
  {
   "cell_type": "code",
   "execution_count": 14,
   "metadata": {},
   "outputs": [],
   "source": [
    "quantile_count=cust_risk.filter(f.col('customerRiskRating').isNotNull()).count()/num_quantiles"
   ]
  },
  {
   "cell_type": "code",
   "execution_count": 19,
   "metadata": {},
   "outputs": [],
   "source": [
    "#Project Example does not have a source of \"known bad\" currently.\n",
    "#This variable is intended to mimic this source of known bads for the purpose of explanation further down\n",
    "historical=[1,3,2,2,2,3,5,6,8,10]"
   ]
  },
  {
   "cell_type": "code",
   "execution_count": 16,
   "metadata": {},
   "outputs": [],
   "source": [
    "new_bins=quantiles.append(pd.Series(max_risk,index=[1]))"
   ]
  },
  {
   "cell_type": "markdown",
   "metadata": {},
   "source": [
    "Use the quantiles to calculate the number of transactions in each bin."
   ]
  },
  {
   "cell_type": "code",
   "execution_count": 17,
   "metadata": {},
   "outputs": [],
   "source": [
    "counts, bins = np.histogram(cust_risk_pd[\"customerRiskRating\"],bins=new_bins)"
   ]
  },
  {
   "cell_type": "code",
   "execution_count": 18,
   "metadata": {},
   "outputs": [
    {
     "data": {
      "text/plain": [
       "(array([117, 117, 117, 117, 117, 117, 116, 118, 117, 117]),\n",
       " array([  10. ,  967.6, 2007.4, 3045.4, 4051.6, 5056. , 6202.8, 7227. ,\n",
       "        8047.4, 9018.6, 9992. ]))"
      ]
     },
     "execution_count": 18,
     "metadata": {},
     "output_type": "execute_result"
    }
   ],
   "source": [
    "counts, bins"
   ]
  },
  {
   "cell_type": "markdown",
   "metadata": {},
   "source": [
    "Obtain business input as to the relative risk and when the score should trigger\n",
    "\n",
    "**NB:** The table below is created using a Python Markdown extension which allows for mixing markdown code and python code. As such some values are calculated and some are static within the markdown itself. For more details see documentation for ipython-contrib/jupyter_contrib_nbextensions on github."
   ]
  },
  {
   "cell_type": "markdown",
   "metadata": {
    "variables": {
     "counts[0]": "117",
     "counts[1]": "117",
     "counts[2]": "117",
     "counts[3]": "117",
     "counts[4]": "117",
     "counts[5]": "117",
     "counts[6]": "116",
     "counts[7]": "118",
     "counts[8]": "117",
     "counts[9]": "117",
     "historical[0]": "1",
     "historical[1]": "3",
     "historical[2]": "2",
     "historical[3]": "2",
     "historical[4]": "2",
     "historical[5]": "3",
     "historical[6]": "5",
     "historical[7]": "6",
     "historical[8]": "8",
     "historical[9]": "10",
     "round(bins[0],2)": "10.0",
     "round(bins[10],2)": "9992.0",
     "round(bins[1],2)": "967.6",
     "round(bins[2],2)": "2007.4",
     "round(bins[3],2)": "3045.4",
     "round(bins[4],2)": "4051.6",
     "round(bins[5],2)": "5056.0",
     "round(bins[6],2)": "6202.8",
     "round(bins[7],2)": "7227.0",
     "round(bins[8],2)": "8047.4",
     "round(bins[9],2)": "9018.6",
     "round(historical[0]/counts[0],2)": "0.01",
     "round(historical[1]/counts[1],2)": "0.03",
     "round(historical[2]/counts[2],2)": "0.02",
     "round(historical[3]/counts[3],2)": "0.02",
     "round(historical[4]/counts[4],2)": "0.02",
     "round(historical[5]/counts[5],2)": "0.03",
     "round(historical[6]/counts[6],2)": "0.04",
     "round(historical[7]/counts[7],2)": "0.05",
     "round(historical[8]/counts[8],2)": "0.07",
     "round(historical[9]/counts[9],2)": "0.09"
    }
   },
   "source": [
    "\n",
    "| Scenario output value range|No. transactions|No. historical cases|Historical hit rate|Business feedback  |\n",
    "|----|----|----|----|:----|\n",
    "|{{round(bins[0],2)}}-{{round(bins[1],2)}} |{{counts[0]}}|{{historical[0]}}|{{round(historical[0]/counts[0],2)}}%|Not interesting - scenario should not trigger|\n",
    "|{{round(bins[1],2)}}-{{round(bins[2],2)}} |{{counts[1]}}|{{historical[1]}}|{{round(historical[1]/counts[1],2)}}%|Not interesting - scenario should not trigger|\n",
    "|{{round(bins[2],2)}}-{{round(bins[3],2)}} |{{counts[2]}}|{{historical[2]}}|{{round(historical[2]/counts[2],2)}}%||\n",
    "|{{round(bins[3],2)}}-{{round(bins[4],2)}} |{{counts[3]}}|{{historical[3]}}|{{round(historical[3]/counts[3],2)}}%||\n",
    "|{{round(bins[4],2)}}-{{round(bins[5],2)}} |{{counts[4]}}|{{historical[4]}}|{{round(historical[4]/counts[4],2)}}%||\n",
    "|{{round(bins[5],2)}}-{{round(bins[6],2)}} |{{counts[5]}}|{{historical[5]}}|{{round(historical[5]/counts[5],2)}}%|Not interesting - scenario should not trigger|\n",
    "|{{round(bins[6],2)}}-{{round(bins[7],2)}} |{{counts[6]}}|{{historical[6]}}|{{round(historical[6]/counts[6],2)}}%|{{round(bins[6],2)}} is minimum level. <br> 5 times less risky than worst risk|\n",
    "|{{round(bins[7],2)}}-{{round(bins[8],2)}} |{{counts[7]}}|{{historical[7]}}|{{round(historical[7]/counts[7],2)}}%||\n",
    "|{{round(bins[8],2)}}-{{round(bins[9],2)}} |{{counts[8]}}|{{historical[8]}}|{{round(historical[8]/counts[8],2)}}%||\n",
    "|{{round(bins[9],2)}}-{{round(bins[10],2)}} |{{counts[9]}}|{{historical[9]}}|{{round(historical[9]/counts[9],2)}}%|Maximum risk at {{round(bins[9],2)}}|"
   ]
  },
  {
   "cell_type": "markdown",
   "metadata": {
    "variables": {
     "round(bins[6],2)": "6202.8",
     "round(bins[9],2)": "9018.6"
    }
   },
   "source": [
    "These values can now be used in the severityFromContinuousValue calculator where minValue~{{round(bins[6],2)}}, maxValue~{{round(bins[9],2)}} and minSeverity=20. This follows the approach for calculating continuous severities documented in https://quantexa.atlassian.net/wiki/spaces/TECH/pages/80281674/Standard+Approach+to+Manually+Assigning+Severity+to+Scenario+Output <br>\n",
    "**NB:** Although we are reporting by quantile (and it is easier for the business to give feedback on this) we prefer to map continuous variables to a continuous severity."
   ]
  },
  {
   "cell_type": "markdown",
   "metadata": {},
   "source": [
    "We can now use the details above and a severity calculator function to calculate the severities for different customer risk ratings. "
   ]
  },
  {
   "cell_type": "code",
   "execution_count": 32,
   "metadata": {},
   "outputs": [],
   "source": [
    "def severityFromContinuousValue(value, minValue, maxValue, minSeverity, maxSeverity=100):\n",
    "    \"\"\"\n",
    "    A python version of the scala function in analytical-incubators.\n",
    "    \"\"\"\n",
    "    if (minValue > maxValue):\n",
    "        raise ValueError(\"Minimum value must not be greater than maximum value\")\n",
    "    if (minSeverity > maxSeverity):\n",
    "        raise ValueError(\"Minimum severity must not be greater than maximum severity\")\n",
    "    if value < minValue:\n",
    "        severity = 0\n",
    "    elif value > maxValue:\n",
    "        severity = 100\n",
    "    else:\n",
    "        gradient  = (maxSeverity - minSeverity) / (maxValue - minValue)\n",
    "        intercept = maxSeverity - gradient * maxValue\n",
    "        severity = gradient * value + intercept\n",
    "    return int(severity)"
   ]
  },
  {
   "cell_type": "markdown",
   "metadata": {
    "variables": {
     "round(bins[6],2)": "6202.8",
     "round(bins[9],2)": "9018.6"
    }
   },
   "source": [
    "To calculate the severity of a customer risk rating of 7000 we use `severityFromContinuousValue(7000,{{round(bins[6],2)}},{{round(bins[9],2)}},20)`. <br> Below we show how the customer risk ratings map to severities."
   ]
  },
  {
   "cell_type": "code",
   "execution_count": 43,
   "metadata": {},
   "outputs": [],
   "source": [
    "severity_list = []\n",
    "for index, row in cust_risk_pd.iterrows():\n",
    "    severity_list.append(severityFromContinuousValue(row[1],round(bins[6],2),round(bins[6],2),20))"
   ]
  },
  {
   "cell_type": "code",
   "execution_count": 37,
   "metadata": {},
   "outputs": [],
   "source": [
    "cust_risk_pd[\"severity\"] = severity_list"
   ]
  },
  {
   "cell_type": "code",
   "execution_count": 42,
   "metadata": {},
   "outputs": [
    {
     "data": {
      "image/png": "[encoded data removed]",
      "text/plain": [
       "<Figure size 432x288 with 1 Axes>"
      ]
     },
     "metadata": {
      "needs_background": "light"
     },
     "output_type": "display_data"
    }
   ],
   "source": [
    "plt.scatter(cust_risk_pd[\"customerRiskRating\"],cust_risk_pd[\"severity\"])\n",
    "plt.title(\"Severity Distribution\")\n",
    "plt.xlabel(\"CustomerRiskRating\")\n",
    "plt.ylabel(\"Severity\")\n",
    "plt.show()"
   ]
  },
  {
   "cell_type": "markdown",
   "metadata": {
    "variables": {
     "round(bins[6],2)": "6202.8",
     "round(bins[9],2)": "9018.6"
    }
   },
   "source": [
    "The above plot shows that for scenario output values between {{round(bins[6],2)}} and {{round(bins[9],2)}} we linearly scale severity between the minimum (20) and maximum (100) severities "
   ]
  },
  {
   "cell_type": "code",
   "execution_count": null,
   "metadata": {},
   "outputs": [],
   "source": []
  }
 ],
 "metadata": {
  "kernelspec": {
   "display_name": "PySpark",
   "language": "python",
   "name": "pyspark"
  },
  "language_info": {
   "codemirror_mode": {
    "name": "ipython",
    "version": 3
   },
   "file_extension": ".py",
   "mimetype": "text/x-python",
   "name": "python",
   "nbconvert_exporter": "python",
   "pygments_lexer": "ipython3",
   "version": "3.7.1"
  }
 },
 "nbformat": 4,
 "nbformat_minor": 2
}