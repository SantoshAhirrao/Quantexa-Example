{
 "cells": [
  {
   "cell_type": "markdown",
   "metadata": {},
   "source": [
    "# Stratify Scorecard for Review"
   ]
  },
  {
   "cell_type": "markdown",
   "metadata": {},
   "source": [
    "As part of the score development process, the data scientist will review the output of their scores, but also seek feedback from stakeholders; these stakeholders may vary, but could include a product manager, other data scientists, lead investigators, etc. This review is an important part of the overall analytical lifecycle.\n",
    "\n",
    "It is impractical to review all score output, and so we must sample cases for review.\n",
    "\n",
    "The [first example](#Example1) shows how to select cases from the scorecard which are stratified across the overall score.\n",
    "\n",
    "The [second example](#Example2) shows how to select instances of a single score which are stratified across the overall score."
   ]
  },
  {
   "cell_type": "code",
   "execution_count": 1,
   "metadata": {},
   "outputs": [],
   "source": [
    "import pyspark.sql.functions as f\n",
    "\n",
    "import pandas as pd\n",
    "import numpy as np\n",
    "\n",
    "import matplotlib.pyplot as plt\n",
    "%matplotlib inline"
   ]
  },
  {
   "cell_type": "markdown",
   "metadata": {},
   "source": [
    "#### Loading the data"
   ]
  },
  {
   "cell_type": "code",
   "execution_count": 2,
   "metadata": {},
   "outputs": [],
   "source": [
    "ROOT_PATH=\"gs://green-1-accelerators-1-username-dpr-stg-bucket/\"\n",
    "FILE_PATH=\"scoring/ScoreCard/CustomerScorecard\"\n",
    "CUSTOMER_PATH=\"customer/DocumentDataModel/CleansedDocumentDataModel.parquet\""
   ]
  },
  {
   "cell_type": "code",
   "execution_count": 3,
   "metadata": {},
   "outputs": [],
   "source": [
    "scorecard = spark.read.parquet(ROOT_PATH+FILE_PATH)"
   ]
  },
  {
   "cell_type": "code",
   "execution_count": 4,
   "metadata": {},
   "outputs": [],
   "source": [
    "customers = spark.read.parquet(ROOT_PATH+CUSTOMER_PATH)"
   ]
  },
  {
   "cell_type": "markdown",
   "metadata": {},
   "source": [
    "## <a name=\"Example1\" style=\"color:black\">Example 1 - Sample cases from the scorecard</a>"
   ]
  },
  {
   "cell_type": "markdown",
   "metadata": {},
   "source": [
    "This section shows how to obtain a sample of cases from the scorecard for review which has been stratified across the overall score in the scorecard."
   ]
  },
  {
   "cell_type": "markdown",
   "metadata": {},
   "source": [
    "### Review data"
   ]
  },
  {
   "cell_type": "markdown",
   "metadata": {},
   "source": [
    "We start by analysing the score distribution to ensure that the overall distribution looks sensible."
   ]
  },
  {
   "cell_type": "code",
   "execution_count": 5,
   "metadata": {},
   "outputs": [],
   "source": [
    "#We use pandas as it has convenient functions to analyse distributions and the data size is not too large.\n",
    "scorecard_pd = scorecard.toPandas()"
   ]
  },
  {
   "cell_type": "code",
   "execution_count": 6,
   "metadata": {},
   "outputs": [
    {
     "data": {
      "image/png": "[encoded data removed]",
      "text/plain": [
       "<Figure size 432x288 with 1 Axes>"
      ]
     },
     "metadata": {
      "needs_background": "light"
     },
     "output_type": "display_data"
    }
   ],
   "source": [
    "total_count, bins, patches = plt.hist(scorecard_pd.scorecardScore,bins=5)\n",
    "plt.title(\"Scorecard Score Distribution\")\n",
    "plt.xlabel(\"Scorecard Score\")\n",
    "plt.ylabel(\"Count\")\n",
    "plt.show()"
   ]
  },
  {
   "cell_type": "markdown",
   "metadata": {},
   "source": [
    "This distribution looks appropriate for our data. We would expect many cases to fall into the lowly scoring buckets, and much fewer to fall into the higher scoring buckets.\n",
    "\n",
    "---"
   ]
  },
  {
   "cell_type": "markdown",
   "metadata": {},
   "source": [
    "### Determine Bins and Sample Sizes\n",
    "\n",
    "Next, we will formally bin the customers using the overall scorecard score and choose the fractions for each bin that we wish to sample. Here we use the bin values created when the histogram was made, although in practice you may wish to increase the number of bins first if greater granularity is required.\n",
    "\n",
    "In this first step, we create a DataFrame containing:\n",
    "1. the minimum and maximum score bin values (e.g. 1-10, 20-30, ...) \n",
    "1. the number of scored customers in each bin; and \n",
    "1. the number of customers we'd like to sample from each bin.\n",
    "\n",
    "Note that when sampling later, the sampleCount is probabalistic, and so the exact number sampled may vary."
   ]
  },
  {
   "cell_type": "code",
   "execution_count": 7,
   "metadata": {},
   "outputs": [],
   "source": [
    "score_counts_pd = pd.DataFrame({\"scorecardScoreMin\":bins[:-1], \"scorecardScoreMax\":bins[1:], \\\n",
    "                                \"totalCount\":total_count, \"sampleCount\": [0,2,2,2,2]})"
   ]
  },
  {
   "cell_type": "markdown",
   "metadata": {},
   "source": [
    "At this point we visually inspect what we are going to sample, in particular ensuring that the totalCount vs the sampleCount values are sensible. \n",
    "\n",
    "<span style=\"color:red\"> *Note that the sample size should not be more than the total count.*</span>"
   ]
  },
  {
   "cell_type": "code",
   "execution_count": 8,
   "metadata": {},
   "outputs": [
    {
     "data": {
      "text/html": [
       "<div>\n",
       "<style scoped>\n",
       "    .dataframe tbody tr th:only-of-type {\n",
       "        vertical-align: middle;\n",
       "    }\n",
       "\n",
       "    .dataframe tbody tr th {\n",
       "        vertical-align: top;\n",
       "    }\n",
       "\n",
       "    .dataframe thead th {\n",
       "        text-align: right;\n",
       "    }\n",
       "</style>\n",
       "<table border=\"1\" class=\"dataframe\">\n",
       "  <thead>\n",
       "    <tr style=\"text-align: right;\">\n",
       "      <th></th>\n",
       "      <th>scorecardScoreMin</th>\n",
       "      <th>scorecardScoreMax</th>\n",
       "      <th>totalCount</th>\n",
       "      <th>sampleCount</th>\n",
       "    </tr>\n",
       "  </thead>\n",
       "  <tbody>\n",
       "    <tr>\n",
       "      <th>0</th>\n",
       "      <td>1.000</td>\n",
       "      <td>10.816</td>\n",
       "      <td>845.0</td>\n",
       "      <td>0</td>\n",
       "    </tr>\n",
       "    <tr>\n",
       "      <th>1</th>\n",
       "      <td>10.816</td>\n",
       "      <td>20.632</td>\n",
       "      <td>508.0</td>\n",
       "      <td>2</td>\n",
       "    </tr>\n",
       "    <tr>\n",
       "      <th>2</th>\n",
       "      <td>20.632</td>\n",
       "      <td>30.448</td>\n",
       "      <td>405.0</td>\n",
       "      <td>2</td>\n",
       "    </tr>\n",
       "    <tr>\n",
       "      <th>3</th>\n",
       "      <td>30.448</td>\n",
       "      <td>40.264</td>\n",
       "      <td>46.0</td>\n",
       "      <td>2</td>\n",
       "    </tr>\n",
       "    <tr>\n",
       "      <th>4</th>\n",
       "      <td>40.264</td>\n",
       "      <td>50.080</td>\n",
       "      <td>2.0</td>\n",
       "      <td>2</td>\n",
       "    </tr>\n",
       "  </tbody>\n",
       "</table>\n",
       "</div>"
      ],
      "text/plain": [
       "   scorecardScoreMin  scorecardScoreMax  totalCount  sampleCount\n",
       "0              1.000             10.816       845.0            0\n",
       "1             10.816             20.632       508.0            2\n",
       "2             20.632             30.448       405.0            2\n",
       "3             30.448             40.264        46.0            2\n",
       "4             40.264             50.080         2.0            2"
      ]
     },
     "execution_count": 8,
     "metadata": {},
     "output_type": "execute_result"
    }
   ],
   "source": [
    "score_counts_pd"
   ]
  },
  {
   "cell_type": "code",
   "execution_count": 9,
   "metadata": {
    "code_folding": []
   },
   "outputs": [],
   "source": [
    "#Ordinarily this function would be imported from an external library, however Quantexa does not currently\n",
    "#maintain any python libraries, and so the function is included here directly.\n",
    "def create_fractions_for_sample(score_counts_df, fraction_key,count_col ):\n",
    "    \"\"\"\n",
    "    function to create custom dictionary of fractions for scorecard samples.\n",
    "    @score_counts_df: pandas dataframe containing scores, total counts and size of required samples\n",
    "    @fraction_key: the name of the column you are sampling over\n",
    "    @count_col: the name of the column with group counts\n",
    "    (The sampling is probabilistic and therefore the required sample sizes are \n",
    "    an approximation of the number of samples you will receive. It is therefore \n",
    "    advised to use 2 as the minimum sample size to give a higher chance of a sample being obtained.)\n",
    "    output:\n",
    "    @fractions_dict: a dictionay with the fraction_key as the key and the fraction size as the value\n",
    "    @score_counts_df: input dataframe with an extra column added with the fraction sizes\n",
    "    \"\"\"\n",
    "    fractions_dict = {}\n",
    "    for index, row in score_counts_df.iterrows():\n",
    "        if type(row[fraction_key]) == np.float64:\n",
    "            fractions_dict[round(row[fraction_key],2)] = row['sampleCount']/row[count_col]\n",
    "        else:\n",
    "            fractions_dict[row[fraction_key]] = row['sampleCount']/row[count_col]\n",
    "    score_counts_df['fractions'] = fractions_dict.values()\n",
    "    \n",
    "    return fractions_dict, score_counts_df"
   ]
  },
  {
   "cell_type": "markdown",
   "metadata": {},
   "source": [
    "We then create a dictionary of fraction sizes for each bin."
   ]
  },
  {
   "cell_type": "code",
   "execution_count": 10,
   "metadata": {},
   "outputs": [],
   "source": [
    "fractions, score_counts_fractions_pd = create_fractions_for_sample(score_counts_pd, \"scorecardScoreMin\",\"totalCount\")"
   ]
  },
  {
   "cell_type": "markdown",
   "metadata": {},
   "source": [
    "The fraction size should be equal to the sampleCount/totalCount. <br>\n",
    "<span style=\"color:red\">**Check that the maximum fraction size is 1**</span>, ie. no sample size should be larger than the total amount of entries. If the fraction size is larger than 1 then the sampling will error."
   ]
  },
  {
   "cell_type": "code",
   "execution_count": 11,
   "metadata": {},
   "outputs": [
    {
     "data": {
      "text/html": [
       "<div>\n",
       "<style scoped>\n",
       "    .dataframe tbody tr th:only-of-type {\n",
       "        vertical-align: middle;\n",
       "    }\n",
       "\n",
       "    .dataframe tbody tr th {\n",
       "        vertical-align: top;\n",
       "    }\n",
       "\n",
       "    .dataframe thead th {\n",
       "        text-align: right;\n",
       "    }\n",
       "</style>\n",
       "<table border=\"1\" class=\"dataframe\">\n",
       "  <thead>\n",
       "    <tr style=\"text-align: right;\">\n",
       "      <th></th>\n",
       "      <th>scorecardScoreMin</th>\n",
       "      <th>scorecardScoreMax</th>\n",
       "      <th>totalCount</th>\n",
       "      <th>sampleCount</th>\n",
       "      <th>fractions</th>\n",
       "    </tr>\n",
       "  </thead>\n",
       "  <tbody>\n",
       "    <tr>\n",
       "      <th>0</th>\n",
       "      <td>1.000</td>\n",
       "      <td>10.816</td>\n",
       "      <td>845.0</td>\n",
       "      <td>0</td>\n",
       "      <td>0.000000</td>\n",
       "    </tr>\n",
       "    <tr>\n",
       "      <th>1</th>\n",
       "      <td>10.816</td>\n",
       "      <td>20.632</td>\n",
       "      <td>508.0</td>\n",
       "      <td>2</td>\n",
       "      <td>0.003937</td>\n",
       "    </tr>\n",
       "    <tr>\n",
       "      <th>2</th>\n",
       "      <td>20.632</td>\n",
       "      <td>30.448</td>\n",
       "      <td>405.0</td>\n",
       "      <td>2</td>\n",
       "      <td>0.004938</td>\n",
       "    </tr>\n",
       "    <tr>\n",
       "      <th>3</th>\n",
       "      <td>30.448</td>\n",
       "      <td>40.264</td>\n",
       "      <td>46.0</td>\n",
       "      <td>2</td>\n",
       "      <td>0.043478</td>\n",
       "    </tr>\n",
       "    <tr>\n",
       "      <th>4</th>\n",
       "      <td>40.264</td>\n",
       "      <td>50.080</td>\n",
       "      <td>2.0</td>\n",
       "      <td>2</td>\n",
       "      <td>1.000000</td>\n",
       "    </tr>\n",
       "  </tbody>\n",
       "</table>\n",
       "</div>"
      ],
      "text/plain": [
       "   scorecardScoreMin  scorecardScoreMax  totalCount  sampleCount  fractions\n",
       "0              1.000             10.816       845.0            0   0.000000\n",
       "1             10.816             20.632       508.0            2   0.003937\n",
       "2             20.632             30.448       405.0            2   0.004938\n",
       "3             30.448             40.264        46.0            2   0.043478\n",
       "4             40.264             50.080         2.0            2   1.000000"
      ]
     },
     "execution_count": 11,
     "metadata": {},
     "output_type": "execute_result"
    }
   ],
   "source": [
    "score_counts_fractions_pd"
   ]
  },
  {
   "cell_type": "markdown",
   "metadata": {},
   "source": [
    "---\n",
    "\n",
    "### Perform Sampling\n",
    "\n",
    "We will now perform the actual sampling of customers across the scorecard.\n",
    "\n",
    "First we join the scorecard bin values to original dataframe. The bins will be used as the key to sample over."
   ]
  },
  {
   "cell_type": "code",
   "execution_count": 12,
   "metadata": {},
   "outputs": [],
   "source": [
    "scorecard_bins = scorecard.\\\n",
    "    withColumn(\"scoreBins\", f.when(f.col(\"scorecardScore\")<bins[1],round(bins[0],2)).otherwise(\n",
    "    f.when(f.col(\"scorecardScore\")<bins[2],round(bins[1],2)).otherwise(\n",
    "    f.when(f.col(\"scorecardScore\")<bins[3],round(bins[2],2)).otherwise(\n",
    "    f.when(f.col(\"scorecardScore\")<bins[4],round(bins[3],2)).otherwise(round(bins[4],2)    \n",
    "    )))))"
   ]
  },
  {
   "cell_type": "markdown",
   "metadata": {},
   "source": [
    "Next, actually do the sample of the scorecard."
   ]
  },
  {
   "cell_type": "code",
   "execution_count": 13,
   "metadata": {},
   "outputs": [],
   "source": [
    "sampled_df = scorecard_bins.stat.sampleBy(\"scoreBins\", fractions, seed=321)"
   ]
  },
  {
   "cell_type": "markdown",
   "metadata": {},
   "source": [
    "---\n",
    "\n",
    "### Add context to sampled cases"
   ]
  },
  {
   "cell_type": "markdown",
   "metadata": {},
   "source": [
    "Join sampled data with customer data and select columns of interest."
   ]
  },
  {
   "cell_type": "code",
   "execution_count": 14,
   "metadata": {},
   "outputs": [],
   "source": [
    "sampled_df_customers = sampled_df.join(customers, sampled_df.subjectId == customers.customerIdNumberString)"
   ]
  },
  {
   "cell_type": "code",
   "execution_count": 15,
   "metadata": {},
   "outputs": [],
   "source": [
    "sampled_df_customers_pd = sampled_df_customers.select(\"customerIdNumber\", \"forename\", \"familyName\", \"scorecardScore\").toPandas()"
   ]
  },
  {
   "cell_type": "markdown",
   "metadata": {},
   "source": [
    "The table below shows the customers that have been selected for review. You can see that they have been sampled from across the range of scorecard scores."
   ]
  },
  {
   "cell_type": "code",
   "execution_count": 16,
   "metadata": {},
   "outputs": [
    {
     "data": {
      "text/html": [
       "<div>\n",
       "<style scoped>\n",
       "    .dataframe tbody tr th:only-of-type {\n",
       "        vertical-align: middle;\n",
       "    }\n",
       "\n",
       "    .dataframe tbody tr th {\n",
       "        vertical-align: top;\n",
       "    }\n",
       "\n",
       "    .dataframe thead th {\n",
       "        text-align: right;\n",
       "    }\n",
       "</style>\n",
       "<table border=\"1\" class=\"dataframe\">\n",
       "  <thead>\n",
       "    <tr style=\"text-align: right;\">\n",
       "      <th></th>\n",
       "      <th>customerIdNumber</th>\n",
       "      <th>forename</th>\n",
       "      <th>familyName</th>\n",
       "      <th>scorecardScore</th>\n",
       "    </tr>\n",
       "  </thead>\n",
       "  <tbody>\n",
       "    <tr>\n",
       "      <th>0</th>\n",
       "      <td>35799827821</td>\n",
       "      <td>Mitchell</td>\n",
       "      <td>Jones</td>\n",
       "      <td>12.08</td>\n",
       "    </tr>\n",
       "    <tr>\n",
       "      <th>1</th>\n",
       "      <td>25441850387</td>\n",
       "      <td>Alannah</td>\n",
       "      <td>Nickson</td>\n",
       "      <td>19.08</td>\n",
       "    </tr>\n",
       "    <tr>\n",
       "      <th>2</th>\n",
       "      <td>27656923095</td>\n",
       "      <td>Kate</td>\n",
       "      <td>McKay</td>\n",
       "      <td>20.00</td>\n",
       "    </tr>\n",
       "    <tr>\n",
       "      <th>3</th>\n",
       "      <td>45827500773</td>\n",
       "      <td></td>\n",
       "      <td></td>\n",
       "      <td>21.00</td>\n",
       "    </tr>\n",
       "    <tr>\n",
       "      <th>4</th>\n",
       "      <td>77002661202</td>\n",
       "      <td></td>\n",
       "      <td></td>\n",
       "      <td>31.08</td>\n",
       "    </tr>\n",
       "    <tr>\n",
       "      <th>5</th>\n",
       "      <td>92202300469</td>\n",
       "      <td>Kaplony</td>\n",
       "      <td>Fazio</td>\n",
       "      <td>36.00</td>\n",
       "    </tr>\n",
       "    <tr>\n",
       "      <th>6</th>\n",
       "      <td>76345614916</td>\n",
       "      <td></td>\n",
       "      <td></td>\n",
       "      <td>49.08</td>\n",
       "    </tr>\n",
       "    <tr>\n",
       "      <th>7</th>\n",
       "      <td>54374691753</td>\n",
       "      <td>N</td>\n",
       "      <td>McGriff</td>\n",
       "      <td>50.08</td>\n",
       "    </tr>\n",
       "  </tbody>\n",
       "</table>\n",
       "</div>"
      ],
      "text/plain": [
       "   customerIdNumber  forename familyName  scorecardScore\n",
       "0       35799827821  Mitchell      Jones           12.08\n",
       "1       25441850387   Alannah    Nickson           19.08\n",
       "2       27656923095      Kate      McKay           20.00\n",
       "3       45827500773                                21.00\n",
       "4       77002661202                                31.08\n",
       "5       92202300469   Kaplony      Fazio           36.00\n",
       "6       76345614916                                49.08\n",
       "7       54374691753         N    McGriff           50.08"
      ]
     },
     "execution_count": 16,
     "metadata": {},
     "output_type": "execute_result"
    }
   ],
   "source": [
    "sampled_df_customers_pd.sort_values(\"scorecardScore\").reset_index(drop=True).fillna(value=\"\")"
   ]
  },
  {
   "cell_type": "markdown",
   "metadata": {},
   "source": [
    "Explode the weightedScoreOutputMap to obtain more score information."
   ]
  },
  {
   "cell_type": "code",
   "execution_count": 17,
   "metadata": {},
   "outputs": [],
   "source": [
    "sampled_df_output = sampled_df_customers\\\n",
    "    .select(\"customerIdNumber\", \"forename\", \"familyName\", \"scorecardScore\", f.explode(\"weightedScoreOutputMap\"))\\\n",
    "    .select(\"customerIdNumber\", \"forename\", \"familyName\", \"scorecardScore\", \"key\", \"value.*\")\\\n",
    "    .select(\"customerIdNumber\", \"forename\", \"familyName\", \"scorecardScore\", f.col(\"key\").alias(\"scoreName\"),\\\n",
    "            \"severity\", \"description\", \"contribution\")"
   ]
  },
  {
   "cell_type": "code",
   "execution_count": 18,
   "metadata": {},
   "outputs": [
    {
     "data": {
      "text/html": [
       "<div>\n",
       "<style scoped>\n",
       "    .dataframe tbody tr th:only-of-type {\n",
       "        vertical-align: middle;\n",
       "    }\n",
       "\n",
       "    .dataframe tbody tr th {\n",
       "        vertical-align: top;\n",
       "    }\n",
       "\n",
       "    .dataframe thead th {\n",
       "        text-align: right;\n",
       "    }\n",
       "</style>\n",
       "<table border=\"1\" class=\"dataframe\">\n",
       "  <thead>\n",
       "    <tr style=\"text-align: right;\">\n",
       "      <th></th>\n",
       "      <th>customerIdNumber</th>\n",
       "      <th>forename</th>\n",
       "      <th>familyName</th>\n",
       "      <th>scorecardScore</th>\n",
       "      <th>scoreName</th>\n",
       "      <th>severity</th>\n",
       "      <th>description</th>\n",
       "      <th>contribution</th>\n",
       "    </tr>\n",
       "  </thead>\n",
       "  <tbody>\n",
       "    <tr>\n",
       "      <th>0</th>\n",
       "      <td>92202300469</td>\n",
       "      <td>Kaplony</td>\n",
       "      <td>Fazio</td>\n",
       "      <td>36.0</td>\n",
       "      <td>CR103_CustomerRollupUnusuallyHighDayVolume</td>\n",
       "      <td>100</td>\n",
       "      <td>In the last 6 months, the greatest unusual vol...</td>\n",
       "      <td>8.0</td>\n",
       "    </tr>\n",
       "    <tr>\n",
       "      <th>1</th>\n",
       "      <td>92202300469</td>\n",
       "      <td>Kaplony</td>\n",
       "      <td>Fazio</td>\n",
       "      <td>36.0</td>\n",
       "      <td>CR104_CustomerRollupUnusualBeneficiaryCountryF...</td>\n",
       "      <td>100</td>\n",
       "      <td>The customer has 3 transactions which were fro...</td>\n",
       "      <td>0.0</td>\n",
       "    </tr>\n",
       "    <tr>\n",
       "      <th>2</th>\n",
       "      <td>92202300469</td>\n",
       "      <td>Kaplony</td>\n",
       "      <td>Fazio</td>\n",
       "      <td>36.0</td>\n",
       "      <td>CR105_CustomerRollupUnusualOriginatingCountryF...</td>\n",
       "      <td>100</td>\n",
       "      <td>The customer has 1 transactions which were fro...</td>\n",
       "      <td>14.0</td>\n",
       "    </tr>\n",
       "    <tr>\n",
       "      <th>3</th>\n",
       "      <td>92202300469</td>\n",
       "      <td>Kaplony</td>\n",
       "      <td>Fazio</td>\n",
       "      <td>36.0</td>\n",
       "      <td>CR102_CustomerRollupUnusualCounterpartyCountry...</td>\n",
       "      <td>100</td>\n",
       "      <td>The customer has 3 transactions which were fro...</td>\n",
       "      <td>0.0</td>\n",
       "    </tr>\n",
       "    <tr>\n",
       "      <th>4</th>\n",
       "      <td>92202300469</td>\n",
       "      <td>Kaplony</td>\n",
       "      <td>Fazio</td>\n",
       "      <td>36.0</td>\n",
       "      <td>NewCustomer</td>\n",
       "      <td>100</td>\n",
       "      <td>Customer Kaplony Fazekas's (92202300469) has a...</td>\n",
       "      <td>1.0</td>\n",
       "    </tr>\n",
       "    <tr>\n",
       "      <th>5</th>\n",
       "      <td>92202300469</td>\n",
       "      <td>Kaplony</td>\n",
       "      <td>Fazio</td>\n",
       "      <td>36.0</td>\n",
       "      <td>CR100_CustomerRollupHighNumberOfRoundAmount</td>\n",
       "      <td>100</td>\n",
       "      <td>The customer has 2 transactions which were rou...</td>\n",
       "      <td>13.0</td>\n",
       "    </tr>\n",
       "  </tbody>\n",
       "</table>\n",
       "</div>"
      ],
      "text/plain": [
       "   customerIdNumber forename familyName  scorecardScore  \\\n",
       "0       92202300469  Kaplony      Fazio            36.0   \n",
       "1       92202300469  Kaplony      Fazio            36.0   \n",
       "2       92202300469  Kaplony      Fazio            36.0   \n",
       "3       92202300469  Kaplony      Fazio            36.0   \n",
       "4       92202300469  Kaplony      Fazio            36.0   \n",
       "5       92202300469  Kaplony      Fazio            36.0   \n",
       "\n",
       "                                           scoreName  severity  \\\n",
       "0         CR103_CustomerRollupUnusuallyHighDayVolume       100   \n",
       "1  CR104_CustomerRollupUnusualBeneficiaryCountryF...       100   \n",
       "2  CR105_CustomerRollupUnusualOriginatingCountryF...       100   \n",
       "3  CR102_CustomerRollupUnusualCounterpartyCountry...       100   \n",
       "4                                        NewCustomer       100   \n",
       "5        CR100_CustomerRollupHighNumberOfRoundAmount       100   \n",
       "\n",
       "                                         description  contribution  \n",
       "0  In the last 6 months, the greatest unusual vol...           8.0  \n",
       "1  The customer has 3 transactions which were fro...           0.0  \n",
       "2  The customer has 1 transactions which were fro...          14.0  \n",
       "3  The customer has 3 transactions which were fro...           0.0  \n",
       "4  Customer Kaplony Fazekas's (92202300469) has a...           1.0  \n",
       "5  The customer has 2 transactions which were rou...          13.0  "
      ]
     },
     "execution_count": 18,
     "metadata": {},
     "output_type": "execute_result"
    }
   ],
   "source": [
    "sampled_df_output.limit(6).toPandas().head(6)"
   ]
  },
  {
   "cell_type": "markdown",
   "metadata": {},
   "source": [
    "Save the output. Depending on the recipient, the data scientist should put the output into Excel for review by other stakeholders."
   ]
  },
  {
   "cell_type": "code",
   "execution_count": 19,
   "metadata": {},
   "outputs": [],
   "source": [
    "sampled_df_output.repartition(1).write.csv(path=ROOT_PATH+\"jupyteroutput/scorecard_samples.csv\", mode=\"overwrite\", header=\"true\")"
   ]
  },
  {
   "cell_type": "markdown",
   "metadata": {},
   "source": [
    "---\n",
    "\n",
    "## <a link name=\"Example2\" style=\"color:black\">Example 2 - Sample an individual score across the overall scorecard score</a>"
   ]
  },
  {
   "cell_type": "markdown",
   "metadata": {},
   "source": [
    "This section shows how to obtain a sample for a single score for review which has been stratified across the overall score in the scorecard.\n",
    "\n",
    "We will choose samples from the following groups:\n",
    "1. When using a scorecard, there is normally a threshold above which the customer behaviour will be classified as interesting/risky (in Financial Crime this is often called an alerting threshold). We will create samples which are above and below this threshold (hereafter referred to as an alerting threshold). \n",
    "1. Quantexa's scorecard logic prevents highly similar scores both contributing to the overall score (only one will). For a given score we will also consider whether it did or did not contribute to the overall scorecard score; both of these cases are interesting."
   ]
  },
  {
   "cell_type": "markdown",
   "metadata": {},
   "source": [
    "### Data Preparation"
   ]
  },
  {
   "cell_type": "markdown",
   "metadata": {},
   "source": [
    "First we create a DataFrame containing one row per customer per score."
   ]
  },
  {
   "cell_type": "code",
   "execution_count": 20,
   "metadata": {},
   "outputs": [],
   "source": [
    "scorecard_explode = scorecard.select(\"subjectId\", \"scorecardScore\", f.explode(\"weightedScoreOutputMap\"))\\\n",
    "                    .select(\"subjectId\", \"scorecardScore\", \"key\", \"value.*\")"
   ]
  },
  {
   "cell_type": "markdown",
   "metadata": {},
   "source": [
    "Define the alert threshold for the scorecard and add a column to the dataframe indicating whether a scorecard score is above or below the threshold."
   ]
  },
  {
   "cell_type": "code",
   "execution_count": 21,
   "metadata": {},
   "outputs": [],
   "source": [
    "threshold = 30"
   ]
  },
  {
   "cell_type": "code",
   "execution_count": 22,
   "metadata": {},
   "outputs": [],
   "source": [
    "scorecard_explode_threshold = scorecard_explode.\\\n",
    "        withColumn(\"aboveThreshold\",f.when(f.col(\"scorecardScore\")>=threshold, True).otherwise(False))"
   ]
  },
  {
   "cell_type": "markdown",
   "metadata": {},
   "source": [
    "### Select score for sampling"
   ]
  },
  {
   "cell_type": "markdown",
   "metadata": {},
   "source": [
    "In this example, we select the customer rollup of \"Unusual Counterparty Country for Customer\". Note that this is part of the RollupTransactionCountryGroup and there are other scores in this group which can contribute."
   ]
  },
  {
   "cell_type": "code",
   "execution_count": 23,
   "metadata": {},
   "outputs": [],
   "source": [
    "score_id = 'CR102_CustomerRollupUnusualCounterpartyCountryForCustomer'"
   ]
  },
  {
   "cell_type": "code",
   "execution_count": 24,
   "metadata": {},
   "outputs": [],
   "source": [
    "scorecard_filtered = scorecard_explode_threshold.filter(f.col(\"key\")==score_id)"
   ]
  },
  {
   "cell_type": "markdown",
   "metadata": {},
   "source": [
    "---\n",
    "\n",
    "### Determine Bins and Sample Sizes"
   ]
  },
  {
   "cell_type": "markdown",
   "metadata": {},
   "source": [
    "Add a column that indicates whether the score contributes to the scorecard score and whether the scorecard score is above the scoring threshold. This column will be used as the sampling key below."
   ]
  },
  {
   "cell_type": "code",
   "execution_count": 25,
   "metadata": {},
   "outputs": [],
   "source": [
    "scorecard_filtered_key = scorecard_filtered.withColumn(\"contributionKey\",\\\n",
    "                    f.when(f.col(\"contributesToScorecardScore\")& f.col(\"aboveThreshold\"),\"tt\").otherwise(\n",
    "                    f.when(f.col(\"contributesToScorecardScore\")& ~f.col(\"aboveThreshold\"), \"tf\").otherwise(\n",
    "                    f.when(~ f.col(\"contributesToScorecardScore\")& f.col(\"aboveThreshold\"), \"ft\").otherwise(\n",
    "                        \"ff\"))))"
   ]
  },
  {
   "cell_type": "markdown",
   "metadata": {},
   "source": [
    "We now inspect the distribution of customers across each of these groups."
   ]
  },
  {
   "cell_type": "code",
   "execution_count": 26,
   "metadata": {},
   "outputs": [],
   "source": [
    "scorecard_filtered_key_count = scorecard_filtered_key.groupBy(\\\n",
    "                             \"contributionKey\",\"contributesToScorecardScore\", \"aboveThreshold\").count()"
   ]
  },
  {
   "cell_type": "code",
   "execution_count": 27,
   "metadata": {},
   "outputs": [],
   "source": [
    "scorecard_filtered_key_count_pd = scorecard_filtered_key_count.toPandas()"
   ]
  },
  {
   "cell_type": "code",
   "execution_count": 28,
   "metadata": {},
   "outputs": [],
   "source": [
    "#Add the required sample sizes to the pandas dataframe.\n",
    "scorecard_filtered_key_count_pd['sampleCount'] = [2,4,2,4]"
   ]
  },
  {
   "cell_type": "markdown",
   "metadata": {},
   "source": [
    "We will visually inspect that the count and sampleCount sizes are correct. <span style=\"color:red\">*The sampleCount should be less than or equal to the count.*</span>"
   ]
  },
  {
   "cell_type": "code",
   "execution_count": 29,
   "metadata": {},
   "outputs": [
    {
     "data": {
      "text/html": [
       "<div>\n",
       "<style scoped>\n",
       "    .dataframe tbody tr th:only-of-type {\n",
       "        vertical-align: middle;\n",
       "    }\n",
       "\n",
       "    .dataframe tbody tr th {\n",
       "        vertical-align: top;\n",
       "    }\n",
       "\n",
       "    .dataframe thead th {\n",
       "        text-align: right;\n",
       "    }\n",
       "</style>\n",
       "<table border=\"1\" class=\"dataframe\">\n",
       "  <thead>\n",
       "    <tr style=\"text-align: right;\">\n",
       "      <th></th>\n",
       "      <th>contributionKey</th>\n",
       "      <th>contributesToScorecardScore</th>\n",
       "      <th>aboveThreshold</th>\n",
       "      <th>count</th>\n",
       "      <th>sampleCount</th>\n",
       "    </tr>\n",
       "  </thead>\n",
       "  <tbody>\n",
       "    <tr>\n",
       "      <th>0</th>\n",
       "      <td>tf</td>\n",
       "      <td>True</td>\n",
       "      <td>False</td>\n",
       "      <td>542</td>\n",
       "      <td>2</td>\n",
       "    </tr>\n",
       "    <tr>\n",
       "      <th>1</th>\n",
       "      <td>ft</td>\n",
       "      <td>False</td>\n",
       "      <td>True</td>\n",
       "      <td>13</td>\n",
       "      <td>4</td>\n",
       "    </tr>\n",
       "    <tr>\n",
       "      <th>2</th>\n",
       "      <td>ff</td>\n",
       "      <td>False</td>\n",
       "      <td>False</td>\n",
       "      <td>171</td>\n",
       "      <td>2</td>\n",
       "    </tr>\n",
       "    <tr>\n",
       "      <th>3</th>\n",
       "      <td>tt</td>\n",
       "      <td>True</td>\n",
       "      <td>True</td>\n",
       "      <td>27</td>\n",
       "      <td>4</td>\n",
       "    </tr>\n",
       "  </tbody>\n",
       "</table>\n",
       "</div>"
      ],
      "text/plain": [
       "  contributionKey  contributesToScorecardScore  aboveThreshold  count  \\\n",
       "0              tf                         True           False    542   \n",
       "1              ft                        False            True     13   \n",
       "2              ff                        False           False    171   \n",
       "3              tt                         True            True     27   \n",
       "\n",
       "   sampleCount  \n",
       "0            2  \n",
       "1            4  \n",
       "2            2  \n",
       "3            4  "
      ]
     },
     "execution_count": 29,
     "metadata": {},
     "output_type": "execute_result"
    }
   ],
   "source": [
    "scorecard_filtered_key_count_pd"
   ]
  },
  {
   "cell_type": "markdown",
   "metadata": {},
   "source": [
    "Add the fractions of each contributing group for sampling."
   ]
  },
  {
   "cell_type": "code",
   "execution_count": 30,
   "metadata": {},
   "outputs": [],
   "source": [
    "fracs, scorecard_fractions_pd = create_fractions_for_sample(scorecard_filtered_key_count_pd, \"contributionKey\", \"count\")"
   ]
  },
  {
   "cell_type": "markdown",
   "metadata": {},
   "source": [
    "The fraction size should be equal to the sampleCount/totalCount. <br>\n",
    "<span style=\"color:red\">**Check that the maximum fraction size is 1**</span>, ie. no sample size should be larger than the total amount of entries. If the fraction size is larger than 1 then the sampling will error."
   ]
  },
  {
   "cell_type": "code",
   "execution_count": 31,
   "metadata": {},
   "outputs": [
    {
     "data": {
      "text/html": [
       "<div>\n",
       "<style scoped>\n",
       "    .dataframe tbody tr th:only-of-type {\n",
       "        vertical-align: middle;\n",
       "    }\n",
       "\n",
       "    .dataframe tbody tr th {\n",
       "        vertical-align: top;\n",
       "    }\n",
       "\n",
       "    .dataframe thead th {\n",
       "        text-align: right;\n",
       "    }\n",
       "</style>\n",
       "<table border=\"1\" class=\"dataframe\">\n",
       "  <thead>\n",
       "    <tr style=\"text-align: right;\">\n",
       "      <th></th>\n",
       "      <th>contributionKey</th>\n",
       "      <th>contributesToScorecardScore</th>\n",
       "      <th>aboveThreshold</th>\n",
       "      <th>count</th>\n",
       "      <th>sampleCount</th>\n",
       "      <th>fractions</th>\n",
       "    </tr>\n",
       "  </thead>\n",
       "  <tbody>\n",
       "    <tr>\n",
       "      <th>0</th>\n",
       "      <td>tf</td>\n",
       "      <td>True</td>\n",
       "      <td>False</td>\n",
       "      <td>542</td>\n",
       "      <td>2</td>\n",
       "      <td>0.003690</td>\n",
       "    </tr>\n",
       "    <tr>\n",
       "      <th>1</th>\n",
       "      <td>ft</td>\n",
       "      <td>False</td>\n",
       "      <td>True</td>\n",
       "      <td>13</td>\n",
       "      <td>4</td>\n",
       "      <td>0.307692</td>\n",
       "    </tr>\n",
       "    <tr>\n",
       "      <th>2</th>\n",
       "      <td>ff</td>\n",
       "      <td>False</td>\n",
       "      <td>False</td>\n",
       "      <td>171</td>\n",
       "      <td>2</td>\n",
       "      <td>0.011696</td>\n",
       "    </tr>\n",
       "    <tr>\n",
       "      <th>3</th>\n",
       "      <td>tt</td>\n",
       "      <td>True</td>\n",
       "      <td>True</td>\n",
       "      <td>27</td>\n",
       "      <td>4</td>\n",
       "      <td>0.148148</td>\n",
       "    </tr>\n",
       "  </tbody>\n",
       "</table>\n",
       "</div>"
      ],
      "text/plain": [
       "  contributionKey  contributesToScorecardScore  aboveThreshold  count  \\\n",
       "0              tf                         True           False    542   \n",
       "1              ft                        False            True     13   \n",
       "2              ff                        False           False    171   \n",
       "3              tt                         True            True     27   \n",
       "\n",
       "   sampleCount  fractions  \n",
       "0            2   0.003690  \n",
       "1            4   0.307692  \n",
       "2            2   0.011696  \n",
       "3            4   0.148148  "
      ]
     },
     "execution_count": 31,
     "metadata": {},
     "output_type": "execute_result"
    }
   ],
   "source": [
    "scorecard_fractions_pd"
   ]
  },
  {
   "cell_type": "markdown",
   "metadata": {},
   "source": [
    "---\n",
    "\n",
    "### Perform Sampling\n",
    "\n",
    "We now do the sampling. Since we are sampling from a categorical variable, this step is slightly simpler than Example 1."
   ]
  },
  {
   "cell_type": "code",
   "execution_count": 32,
   "metadata": {},
   "outputs": [],
   "source": [
    "sampled_df_single_score = scorecard_filtered_key.stat.sampleBy(\"contributionKey\", fracs, seed=321)"
   ]
  },
  {
   "cell_type": "markdown",
   "metadata": {},
   "source": [
    "---\n",
    "\n",
    "### Add context to sampled cases"
   ]
  },
  {
   "cell_type": "markdown",
   "metadata": {},
   "source": [
    "Join with customer data and select columns of interest."
   ]
  },
  {
   "cell_type": "code",
   "execution_count": 33,
   "metadata": {},
   "outputs": [],
   "source": [
    "sampled_df_single_score_customers = sampled_df_single_score.join(customers, sampled_df_single_score.subjectId == customers.customerIdNumberString)"
   ]
  },
  {
   "cell_type": "markdown",
   "metadata": {},
   "source": [
    "Below are the customers selected for the **CustomerRollupUnusualCounterpartyCountryForCustomer** score"
   ]
  },
  {
   "cell_type": "code",
   "execution_count": 34,
   "metadata": {},
   "outputs": [],
   "source": [
    "sampled_df_single_score_output = sampled_df_single_score_customers.select(\"customerIdNumber\", \"forename\", \"familyName\",\\\n",
    "                \"scorecardScore\", \"contributesToScorecardScore\", \"aboveThreshold\", \"severity\", \"contribution\", f.col(\"key\").alias(\"scoreName\"))"
   ]
  },
  {
   "cell_type": "markdown",
   "metadata": {},
   "source": [
    "The table below shows the customers for which the customer rollup score has been selected for review. You can see that they have been sampled from across the range of scorecard scores.\n",
    "\n",
    "Note that in practice, further information needs to be selected; in this case, as we are sampling the rollup score, we would also need to select the transaction scores and transactions for the scores that fed into the rollup."
   ]
  },
  {
   "cell_type": "code",
   "execution_count": 35,
   "metadata": {},
   "outputs": [
    {
     "data": {
      "text/html": [
       "<div>\n",
       "<style scoped>\n",
       "    .dataframe tbody tr th:only-of-type {\n",
       "        vertical-align: middle;\n",
       "    }\n",
       "\n",
       "    .dataframe tbody tr th {\n",
       "        vertical-align: top;\n",
       "    }\n",
       "\n",
       "    .dataframe thead th {\n",
       "        text-align: right;\n",
       "    }\n",
       "</style>\n",
       "<table border=\"1\" class=\"dataframe\">\n",
       "  <thead>\n",
       "    <tr style=\"text-align: right;\">\n",
       "      <th></th>\n",
       "      <th>customerIdNumber</th>\n",
       "      <th>forename</th>\n",
       "      <th>familyName</th>\n",
       "      <th>scorecardScore</th>\n",
       "      <th>contributesToScorecardScore</th>\n",
       "      <th>aboveThreshold</th>\n",
       "      <th>severity</th>\n",
       "      <th>contribution</th>\n",
       "      <th>scoreName</th>\n",
       "    </tr>\n",
       "  </thead>\n",
       "  <tbody>\n",
       "    <tr>\n",
       "      <th>0</th>\n",
       "      <td>10311327573</td>\n",
       "      <td>Marion</td>\n",
       "      <td>Afford</td>\n",
       "      <td>34.00</td>\n",
       "      <td>True</td>\n",
       "      <td>True</td>\n",
       "      <td>100</td>\n",
       "      <td>12.0</td>\n",
       "      <td>CR102_CustomerRollupUnusualCounterpartyCountry...</td>\n",
       "    </tr>\n",
       "    <tr>\n",
       "      <th>1</th>\n",
       "      <td>31742721523</td>\n",
       "      <td>Stephen</td>\n",
       "      <td>Mendoza</td>\n",
       "      <td>22.00</td>\n",
       "      <td>True</td>\n",
       "      <td>False</td>\n",
       "      <td>100</td>\n",
       "      <td>12.0</td>\n",
       "      <td>CR102_CustomerRollupUnusualCounterpartyCountry...</td>\n",
       "    </tr>\n",
       "    <tr>\n",
       "      <th>2</th>\n",
       "      <td>10333399828</td>\n",
       "      <td>Amelie</td>\n",
       "      <td>Brooker</td>\n",
       "      <td>20.08</td>\n",
       "      <td>False</td>\n",
       "      <td>False</td>\n",
       "      <td>100</td>\n",
       "      <td>0.0</td>\n",
       "      <td>CR102_CustomerRollupUnusualCounterpartyCountry...</td>\n",
       "    </tr>\n",
       "    <tr>\n",
       "      <th>3</th>\n",
       "      <td>70298998457</td>\n",
       "      <td>Jaxon</td>\n",
       "      <td>Benny</td>\n",
       "      <td>23.00</td>\n",
       "      <td>False</td>\n",
       "      <td>False</td>\n",
       "      <td>100</td>\n",
       "      <td>0.0</td>\n",
       "      <td>CR102_CustomerRollupUnusualCounterpartyCountry...</td>\n",
       "    </tr>\n",
       "    <tr>\n",
       "      <th>4</th>\n",
       "      <td>53067181463</td>\n",
       "      <td></td>\n",
       "      <td></td>\n",
       "      <td>34.08</td>\n",
       "      <td>False</td>\n",
       "      <td>True</td>\n",
       "      <td>100</td>\n",
       "      <td>0.0</td>\n",
       "      <td>CR102_CustomerRollupUnusualCounterpartyCountry...</td>\n",
       "    </tr>\n",
       "    <tr>\n",
       "      <th>5</th>\n",
       "      <td>91837271512</td>\n",
       "      <td>Norman</td>\n",
       "      <td>Gaytan</td>\n",
       "      <td>30.00</td>\n",
       "      <td>True</td>\n",
       "      <td>True</td>\n",
       "      <td>100</td>\n",
       "      <td>12.0</td>\n",
       "      <td>CR102_CustomerRollupUnusualCounterpartyCountry...</td>\n",
       "    </tr>\n",
       "    <tr>\n",
       "      <th>6</th>\n",
       "      <td>72389686387</td>\n",
       "      <td>Ethan</td>\n",
       "      <td>Murphy</td>\n",
       "      <td>27.00</td>\n",
       "      <td>True</td>\n",
       "      <td>False</td>\n",
       "      <td>100</td>\n",
       "      <td>12.0</td>\n",
       "      <td>CR102_CustomerRollupUnusualCounterpartyCountry...</td>\n",
       "    </tr>\n",
       "    <tr>\n",
       "      <th>7</th>\n",
       "      <td>87893836672</td>\n",
       "      <td></td>\n",
       "      <td></td>\n",
       "      <td>33.08</td>\n",
       "      <td>False</td>\n",
       "      <td>True</td>\n",
       "      <td>100</td>\n",
       "      <td>0.0</td>\n",
       "      <td>CR102_CustomerRollupUnusualCounterpartyCountry...</td>\n",
       "    </tr>\n",
       "    <tr>\n",
       "      <th>8</th>\n",
       "      <td>89762009778</td>\n",
       "      <td></td>\n",
       "      <td></td>\n",
       "      <td>21.00</td>\n",
       "      <td>True</td>\n",
       "      <td>False</td>\n",
       "      <td>100</td>\n",
       "      <td>12.0</td>\n",
       "      <td>CR102_CustomerRollupUnusualCounterpartyCountry...</td>\n",
       "    </tr>\n",
       "  </tbody>\n",
       "</table>\n",
       "</div>"
      ],
      "text/plain": [
       "   customerIdNumber forename familyName  scorecardScore  \\\n",
       "0       10311327573   Marion     Afford           34.00   \n",
       "1       31742721523  Stephen    Mendoza           22.00   \n",
       "2       10333399828   Amelie    Brooker           20.08   \n",
       "3       70298998457    Jaxon      Benny           23.00   \n",
       "4       53067181463                               34.08   \n",
       "5       91837271512   Norman     Gaytan           30.00   \n",
       "6       72389686387    Ethan     Murphy           27.00   \n",
       "7       87893836672                               33.08   \n",
       "8       89762009778                               21.00   \n",
       "\n",
       "   contributesToScorecardScore  aboveThreshold  severity  contribution  \\\n",
       "0                         True            True       100          12.0   \n",
       "1                         True           False       100          12.0   \n",
       "2                        False           False       100           0.0   \n",
       "3                        False           False       100           0.0   \n",
       "4                        False            True       100           0.0   \n",
       "5                         True            True       100          12.0   \n",
       "6                         True           False       100          12.0   \n",
       "7                        False            True       100           0.0   \n",
       "8                         True           False       100          12.0   \n",
       "\n",
       "                                           scoreName  \n",
       "0  CR102_CustomerRollupUnusualCounterpartyCountry...  \n",
       "1  CR102_CustomerRollupUnusualCounterpartyCountry...  \n",
       "2  CR102_CustomerRollupUnusualCounterpartyCountry...  \n",
       "3  CR102_CustomerRollupUnusualCounterpartyCountry...  \n",
       "4  CR102_CustomerRollupUnusualCounterpartyCountry...  \n",
       "5  CR102_CustomerRollupUnusualCounterpartyCountry...  \n",
       "6  CR102_CustomerRollupUnusualCounterpartyCountry...  \n",
       "7  CR102_CustomerRollupUnusualCounterpartyCountry...  \n",
       "8  CR102_CustomerRollupUnusualCounterpartyCountry...  "
      ]
     },
     "execution_count": 35,
     "metadata": {},
     "output_type": "execute_result"
    }
   ],
   "source": [
    "sampled_df_single_score_output.toPandas().fillna(value=\"\")"
   ]
  },
  {
   "cell_type": "markdown",
   "metadata": {},
   "source": [
    "Save the output. Depending on the recipient, the data scientist should put the output into Excel for review by other stakeholders."
   ]
  },
  {
   "cell_type": "code",
   "execution_count": 36,
   "metadata": {},
   "outputs": [],
   "source": [
    "sampled_df_single_score_output.repartition(1).write.csv(path=ROOT_PATH+\"jupyteroutput/scorecard_samples_\"+score_id+\".csv\", mode=\"overwrite\", header=\"true\")"
   ]
  }
 ],
 "metadata": {
  "kernelspec": {
   "display_name": "PySpark",
   "language": "python",
   "name": "pyspark"
  },
  "language_info": {
   "codemirror_mode": {
    "name": "ipython",
    "version": 3
   },
   "file_extension": ".py",
   "mimetype": "text/x-python",
   "name": "python",
   "nbconvert_exporter": "python",
   "pygments_lexer": "ipython3",
   "version": "3.7.1"
  }
 },
 "nbformat": 4,
 "nbformat_minor": 2
}