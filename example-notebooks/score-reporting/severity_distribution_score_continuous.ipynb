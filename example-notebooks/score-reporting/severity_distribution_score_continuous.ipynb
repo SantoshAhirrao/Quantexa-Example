{
 "cells": [
  {
   "cell_type": "markdown",
   "metadata": {},
   "source": [
    "# Severity Distribution of a Score: HighRiskCustomerContinuous"
   ]
  },
  {
   "cell_type": "code",
   "execution_count": 1,
   "metadata": {},
   "outputs": [],
   "source": [
    "from pyspark.sql.functions import *\n",
    "spark.conf.set(\"spark.sql.execution.arrow.enabled\", \"true\")\n",
    "\n",
    "import pandas as pd\n",
    "\n",
    "import matplotlib.pyplot as plt\n",
    "%matplotlib inline"
   ]
  },
  {
   "cell_type": "markdown",
   "metadata": {},
   "source": [
    "### Loading the data"
   ]
  },
  {
   "cell_type": "code",
   "execution_count": 2,
   "metadata": {},
   "outputs": [],
   "source": [
    "SCORE_OUTPUT_ROOT=\"gs://green-1-accelerators-1-username-dpr-stg-bucket/scoring/\"\n",
    "FILE_PATH=\"Document/AdditionalOutput/HighRiskCustomerContinuous\"\n",
    "STATISTICS_PATH = \"Document/Statistics/Customer_CustomerScoreOutput_Merged_ScoreStatistics\"\n",
    "SCORE_ID_OF_INTEREST=\"HighRiskCustomerContinuous\""
   ]
  },
  {
   "cell_type": "markdown",
   "metadata": {},
   "source": [
    "Read in the score from the AdditionalOutput folder and the score statistics from the Customer_CustomerScoreOutput_Merged_ScoreStatistics data."
   ]
  },
  {
   "cell_type": "code",
   "execution_count": 3,
   "metadata": {},
   "outputs": [],
   "source": [
    "df = spark.read.parquet(SCORE_OUTPUT_ROOT+FILE_PATH)"
   ]
  },
  {
   "cell_type": "code",
   "execution_count": 4,
   "metadata": {},
   "outputs": [],
   "source": [
    "statistics = spark.read.parquet(SCORE_OUTPUT_ROOT+STATISTICS_PATH)"
   ]
  },
  {
   "cell_type": "markdown",
   "metadata": {},
   "source": [
    "Expand the customOutput column and convert to pandas dataframe."
   ]
  },
  {
   "cell_type": "code",
   "execution_count": 5,
   "metadata": {},
   "outputs": [],
   "source": [
    "score_output = df.select(\"subject\",\"customOutput.*\")"
   ]
  },
  {
   "cell_type": "code",
   "execution_count": 6,
   "metadata": {},
   "outputs": [
    {
     "name": "stdout",
     "output_type": "stream",
     "text": [
      "+-----------+-------------+--------+----+--------------------------------------------------+\n",
      "|subject    |keys         |severity|band|description                                       |\n",
      "+-----------+-------------+--------+----+--------------------------------------------------+\n",
      "|10092942152|[10092942152]|20      |null|High risk customer Harry Krichauff (10092942152). |\n",
      "|10910136667|[10910136667]|100     |null|High risk customer Matthew Tremper (10910136667). |\n",
      "|45613094600|[45613094600]|100     |null|High risk customer Jimmy Bennett (45613094600).   |\n",
      "|47583858045|[47583858045]|26      |null|High risk customer Enrique Voss (47583858045).    |\n",
      "|56413973236|[56413973236]|35      |null|High risk customer Campbell Rochele (56413973236).|\n",
      "+-----------+-------------+--------+----+--------------------------------------------------+\n",
      "only showing top 5 rows\n",
      "\n"
     ]
    }
   ],
   "source": [
    "score_output.show(5,False)"
   ]
  },
  {
   "cell_type": "code",
   "execution_count": 10,
   "metadata": {},
   "outputs": [],
   "source": [
    "score_output_pd = score_output.toPandas()"
   ]
  },
  {
   "cell_type": "markdown",
   "metadata": {},
   "source": [
    "Get total number of customers."
   ]
  },
  {
   "cell_type": "code",
   "execution_count": 8,
   "metadata": {},
   "outputs": [],
   "source": [
    "num_cust=statistics.filter(col(\"scoreId\")==SCORE_ID_OF_INTEREST).select(\"totalInputs\").head()[0]"
   ]
  },
  {
   "cell_type": "markdown",
   "metadata": {},
   "source": [
    "### Analysing severity distribution"
   ]
  },
  {
   "cell_type": "markdown",
   "metadata": {},
   "source": [
    "Look at the number of times each severity occurs and plot histogram."
   ]
  },
  {
   "cell_type": "code",
   "execution_count": 11,
   "metadata": {},
   "outputs": [
    {
     "data": {
      "image/png": "[encoded data removed]",
      "text/plain": [
       "<Figure size 432x288 with 1 Axes>"
      ]
     },
     "metadata": {
      "needs_background": "light"
     },
     "output_type": "display_data"
    }
   ],
   "source": [
    "score_output_pd[\"severity\"].hist()\n",
    "plt.title(\"Severity Distribution\")\n",
    "plt.xlabel(\"Severity\")\n",
    "plt.ylabel(\"Count\")\n",
    "plt.show()"
   ]
  },
  {
   "cell_type": "markdown",
   "metadata": {},
   "source": [
    "Modify the number of bins."
   ]
  },
  {
   "cell_type": "code",
   "execution_count": 12,
   "metadata": {},
   "outputs": [
    {
     "data": {
      "image/png": "[encoded data removed]",
      "text/plain": [
       "<Figure size 432x288 with 1 Axes>"
      ]
     },
     "metadata": {
      "needs_background": "light"
     },
     "output_type": "display_data"
    }
   ],
   "source": [
    "num_bins = 5\n",
    "n, bins, patches = plt.hist(score_output_pd[\"severity\"], bins=num_bins)\n",
    "plt.title(\"Severity Distribution\")\n",
    "plt.xlabel(\"Severity\")\n",
    "plt.ylabel(\"Count\")\n",
    "plt.show()\n",
    "plt.show()"
   ]
  },
  {
   "cell_type": "markdown",
   "metadata": {},
   "source": [
    "Get number of customers who don't trigger a score."
   ]
  },
  {
   "cell_type": "code",
   "execution_count": 15,
   "metadata": {},
   "outputs": [],
   "source": [
    "count_triggers = statistics.filter(col(\"scoreId\")==SCORE_ID_OF_INTEREST).select(\"countTriggers\").head()[0]\n",
    "no_triggers = num_cust-count_triggers\n",
    "no_triggers_rate = 100*float(no_triggers)/num_cust"
   ]
  },
  {
   "cell_type": "markdown",
   "metadata": {},
   "source": [
    "Calculate trigger rates for bins."
   ]
  },
  {
   "cell_type": "code",
   "execution_count": 36,
   "metadata": {},
   "outputs": [],
   "source": [
    "severity_rates_pd=pd.DataFrame({'severity_lower_bound':bins[0:num_bins], 'count':n, 'trigger_rate (%)':100*n/num_cust})\n",
    "no_triggers_row = pd.DataFrame({'severity_lower_bound':0.0, 'count':no_triggers, 'trigger_rate (%)':no_triggers_rate},index=[0])\n",
    "severity_rates_appended_pd = no_triggers_row.append(severity_rates_pd,ignore_index=True)"
   ]
  },
  {
   "cell_type": "code",
   "execution_count": 38,
   "metadata": {},
   "outputs": [
    {
     "data": {
      "text/html": [
       "<div>\n",
       "<style scoped>\n",
       "    .dataframe tbody tr th:only-of-type {\n",
       "        vertical-align: middle;\n",
       "    }\n",
       "\n",
       "    .dataframe tbody tr th {\n",
       "        vertical-align: top;\n",
       "    }\n",
       "\n",
       "    .dataframe thead th {\n",
       "        text-align: right;\n",
       "    }\n",
       "</style>\n",
       "<table border=\"1\" class=\"dataframe\">\n",
       "  <thead>\n",
       "    <tr style=\"text-align: right;\">\n",
       "      <th></th>\n",
       "      <th>severity_lower_bound</th>\n",
       "      <th>count</th>\n",
       "      <th>trigger_rate (%)</th>\n",
       "    </tr>\n",
       "  </thead>\n",
       "  <tbody>\n",
       "    <tr>\n",
       "      <th>0</th>\n",
       "      <td>0.0</td>\n",
       "      <td>1532.0</td>\n",
       "      <td>76.60</td>\n",
       "    </tr>\n",
       "    <tr>\n",
       "      <th>1</th>\n",
       "      <td>20.0</td>\n",
       "      <td>69.0</td>\n",
       "      <td>3.45</td>\n",
       "    </tr>\n",
       "    <tr>\n",
       "      <th>2</th>\n",
       "      <td>36.0</td>\n",
       "      <td>65.0</td>\n",
       "      <td>3.25</td>\n",
       "    </tr>\n",
       "    <tr>\n",
       "      <th>3</th>\n",
       "      <td>52.0</td>\n",
       "      <td>80.0</td>\n",
       "      <td>4.00</td>\n",
       "    </tr>\n",
       "    <tr>\n",
       "      <th>4</th>\n",
       "      <td>68.0</td>\n",
       "      <td>64.0</td>\n",
       "      <td>3.20</td>\n",
       "    </tr>\n",
       "    <tr>\n",
       "      <th>5</th>\n",
       "      <td>84.0</td>\n",
       "      <td>190.0</td>\n",
       "      <td>9.50</td>\n",
       "    </tr>\n",
       "  </tbody>\n",
       "</table>\n",
       "</div>"
      ],
      "text/plain": [
       "   severity_lower_bound   count  trigger_rate (%)\n",
       "0                   0.0  1532.0             76.60\n",
       "1                  20.0    69.0              3.45\n",
       "2                  36.0    65.0              3.25\n",
       "3                  52.0    80.0              4.00\n",
       "4                  68.0    64.0              3.20\n",
       "5                  84.0   190.0              9.50"
      ]
     },
     "execution_count": 38,
     "metadata": {},
     "output_type": "execute_result"
    }
   ],
   "source": [
    "severity_rates_appended_pd"
   ]
  },
  {
   "cell_type": "markdown",
   "metadata": {},
   "source": [
    "About 25% of customers trigger a score. The severities are quite evenly spread from 20-90 and then there are a large number of people with severities close to 100."
   ]
  }
 ],
 "metadata": {
  "kernelspec": {
   "display_name": "PySpark",
   "language": "python",
   "name": "pyspark"
  },
  "language_info": {
   "codemirror_mode": {
    "name": "ipython",
    "version": 3
   },
   "file_extension": ".py",
   "mimetype": "text/x-python",
   "name": "python",
   "nbconvert_exporter": "python",
   "pygments_lexer": "ipython3",
   "version": "3.7.1"
  }
 },
 "nbformat": 4,
 "nbformat_minor": 2
}